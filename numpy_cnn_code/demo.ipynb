{
 "cells": [
  {
   "cell_type": "code",
   "execution_count": 1,
   "metadata": {},
   "outputs": [],
   "source": [
    "# Import the training data.\n",
    "from tensorflow.keras.datasets import cifar10\n",
    "(X_train, y_train), (X_test, y_test) = cifar10.load_data()"
   ]
  },
  {
   "cell_type": "code",
   "execution_count": 2,
   "metadata": {},
   "outputs": [
    {
     "name": "stdout",
     "output_type": "stream",
     "text": [
      "Shape of X_train: (50000, 32, 32, 3)\n",
      "Shape of X_test: (10000, 32, 32, 3)\n",
      "Shape of y_train: (50000, 1)\n",
      "Shape of y_test: (10000, 1)\n"
     ]
    }
   ],
   "source": [
    "# Display the shapes of the data.\n",
    "print(f'Shape of X_train: {X_train.shape}')\n",
    "print(f'Shape of X_test: {X_test.shape}')\n",
    "print(f'Shape of y_train: {y_train.shape}')\n",
    "print(f'Shape of y_test: {y_test.shape}')"
   ]
  },
  {
   "cell_type": "code",
   "execution_count": 3,
   "metadata": {},
   "outputs": [],
   "source": [
    "# Import the required modules.\n",
    "from layers.activation import ReluLayer\n",
    "from layers.convolution import ConvolutionLayer\n",
    "from layers.pooling import PoolLayer\n",
    "from layers.flatten import Flatten\n",
    "from layers.dense import DenseLayer\n",
    "from layers.loss import SoftmaxLayer\n",
    "from network import Model"
   ]
  },
  {
   "cell_type": "code",
   "execution_count": 4,
   "metadata": {},
   "outputs": [],
   "source": [
    "# Instantiate a model.\n",
    "model = Model(\n",
    "    ConvolutionLayer(filters=3, filter_size=3, padding=1, stride=1),\n",
    "    ReluLayer(),\n",
    "    PoolLayer(filter_size=2, stride=2, mode='max'),\n",
    "    Flatten(),\n",
    "    DenseLayer(units=10),\n",
    "    SoftmaxLayer()\n",
    ")"
   ]
  },
  {
   "cell_type": "code",
   "execution_count": 5,
   "metadata": {},
   "outputs": [],
   "source": [
    "# Downsize the training data in the interest of time.\n",
    "# Extract 512 examples.\n",
    "X_train = X_train[ :512, :, :, :]\n",
    "y_train = y_train[ :512, :]"
   ]
  },
  {
   "cell_type": "code",
   "execution_count": 6,
   "metadata": {},
   "outputs": [
    {
     "name": "stdout",
     "output_type": "stream",
     "text": [
      "Running epoch: 1\n",
      "A_prev input shape in Convolution forward prop: (256, 32, 32, 3)\n",
      "W weights input shape in Convolution forward prop: (3, 3, 3, 3)\n",
      "b biases input shape in Convolution forward prop: (1, 1, 1, 3)\n",
      "Z output shape in Convolution forward prop: (256, 32, 32, 3)\n",
      "A_prev input shape in Pooling forward: (256, 32, 32, 3)\n",
      "A output shape in Pooling forkward: (256, 16, 16, 3)\n",
      "Z input shape in Flatten forward prop: (256, 16, 16, 3)\n",
      "data output shape in Flatten forward prop: (768, 256)\n",
      "X input shape in Dense forward prop: (768, 256)\n",
      "W weights input shape in Dense forward prop: (10, 768)\n",
      "b biases input shape in Dense forward prop: (10, 1)\n",
      "Z input shape in Softmax forward prop: (10, 256)\n",
      "out output shape in Softmax forward prop: (10, 256)\n",
      "mini_batch[0] shape (256, 32, 32, 3)\n",
      "mini_batch_true_labels shape (256, 10)\n",
      "mini_batch_preds final shape (10, 256)\n",
      "dA.shape: (10, 256)\n",
      "dA input shape in Softmax backward: (10, 256)\n",
      "Z input shape in Softmax backward: (10, 256)\n",
      "dZ input shape in Dense backward: (10, 256)\n",
      "out output shape in Dense backward: (768, 256)\n",
      "Z input shape in Flatten backward: (768, 256)\n",
      "Z transposed in Flatten backward: (256, 768)\n",
      "out output shape in Flatten backward: (256, 16, 16, 3)\n",
      "A_prev cache input shape in Pooling backward: (256, 32, 32, 3)\n",
      "dA input shape in Pooling backward: (256, 16, 16, 3)\n",
      "dA_prev output shape in Pooling backward: (256, 32, 32, 3)\n",
      "dZ input shape in Convolution backward: (256, 32, 32, 3)\n",
      "dW grads shape in Convolution backward: (3, 3, 3, 3)\n",
      "db grads shape in Convolution backward: (1, 1, 1, 3)\n",
      "dA_prev output shape in Convolution backward: (256, 32, 32, 3)\n",
      "A_prev input shape in Convolution forward prop: (256, 32, 32, 3)\n",
      "W weights input shape in Convolution forward prop: (3, 3, 3, 3)\n",
      "b biases input shape in Convolution forward prop: (1, 1, 1, 3)\n",
      "Z output shape in Convolution forward prop: (256, 32, 32, 3)\n",
      "A_prev input shape in Pooling forward: (256, 32, 32, 3)\n",
      "A output shape in Pooling forkward: (256, 16, 16, 3)\n",
      "Z input shape in Flatten forward prop: (256, 16, 16, 3)\n",
      "data output shape in Flatten forward prop: (768, 256)\n",
      "X input shape in Dense forward prop: (768, 256)\n",
      "W weights input shape in Dense forward prop: (10, 768)\n",
      "b biases input shape in Dense forward prop: (10, 1)\n",
      "Z input shape in Softmax forward prop: (10, 256)\n",
      "out output shape in Softmax forward prop: (10, 256)\n",
      "mini_batch[0] shape (256, 32, 32, 3)\n",
      "mini_batch_true_labels shape (256, 10)\n",
      "mini_batch_preds final shape (10, 256)\n",
      "dA.shape: (10, 256)\n",
      "dA input shape in Softmax backward: (10, 256)\n",
      "Z input shape in Softmax backward: (10, 256)\n",
      "dZ input shape in Dense backward: (10, 256)\n",
      "out output shape in Dense backward: (768, 256)\n",
      "Z input shape in Flatten backward: (768, 256)\n",
      "Z transposed in Flatten backward: (256, 768)\n",
      "out output shape in Flatten backward: (256, 16, 16, 3)\n",
      "A_prev cache input shape in Pooling backward: (256, 32, 32, 3)\n",
      "dA input shape in Pooling backward: (256, 16, 16, 3)\n",
      "dA_prev output shape in Pooling backward: (256, 32, 32, 3)\n",
      "dZ input shape in Convolution backward: (256, 32, 32, 3)\n",
      "dW grads shape in Convolution backward: (3, 3, 3, 3)\n",
      "db grads shape in Convolution backward: (1, 1, 1, 3)\n",
      "dA_prev output shape in Convolution backward: (256, 32, 32, 3)\n",
      "A_prev input shape in Convolution forward prop: (256, 32, 32, 3)\n",
      "W weights input shape in Convolution forward prop: (3, 3, 3, 3)\n",
      "b biases input shape in Convolution forward prop: (1, 1, 1, 3)\n",
      "Z output shape in Convolution forward prop: (256, 32, 32, 3)\n",
      "A_prev input shape in Pooling forward: (256, 32, 32, 3)\n",
      "A output shape in Pooling forkward: (256, 16, 16, 3)\n",
      "Z input shape in Flatten forward prop: (256, 16, 16, 3)\n",
      "data output shape in Flatten forward prop: (768, 256)\n",
      "X input shape in Dense forward prop: (768, 256)\n",
      "W weights input shape in Dense forward prop: (10, 768)\n",
      "b biases input shape in Dense forward prop: (10, 1)\n",
      "Z input shape in Softmax forward prop: (10, 256)\n",
      "out output shape in Softmax forward prop: (10, 256)\n",
      "A_prev input shape in Convolution forward prop: (256, 32, 32, 3)\n",
      "W weights input shape in Convolution forward prop: (3, 3, 3, 3)\n",
      "b biases input shape in Convolution forward prop: (1, 1, 1, 3)\n",
      "Z output shape in Convolution forward prop: (256, 32, 32, 3)\n",
      "A_prev input shape in Pooling forward: (256, 32, 32, 3)\n",
      "A output shape in Pooling forkward: (256, 16, 16, 3)\n",
      "Z input shape in Flatten forward prop: (256, 16, 16, 3)\n",
      "data output shape in Flatten forward prop: (768, 256)\n",
      "X input shape in Dense forward prop: (768, 256)\n",
      "W weights input shape in Dense forward prop: (10, 768)\n",
      "b biases input shape in Dense forward prop: (10, 1)\n",
      "Z input shape in Softmax forward prop: (10, 256)\n",
      "out output shape in Softmax forward prop: (10, 256)\n",
      "Loss epoch 1: 1179.6305778245696\n",
      "Accuracy epoch 1: 10.156%\n",
      "probabilities: [[0.09881242 0.10173113 0.10408577 ... 0.09754745 0.09543084 0.10424022]\n",
      " [0.09881242 0.10173113 0.10408577 ... 0.09754745 0.09543084 0.10424022]\n",
      " [0.09881242 0.10173113 0.10408577 ... 0.09754745 0.09543084 0.10424022]\n",
      " ...\n",
      " [0.09881242 0.10173113 0.10408577 ... 0.09754745 0.09543084 0.10424022]\n",
      " [0.09881242 0.10173113 0.10408577 ... 0.09754745 0.09543084 0.10424022]\n",
      " [0.09881242 0.10173113 0.10408577 ... 0.09754745 0.09543084 0.10424022]]\n",
      "probabilities shape: (512, 10)\n",
      "Y_hat_temp shape: (512,)\n"
     ]
    }
   ],
   "source": [
    "# Train the model for 1 epoch.\n",
    "model.train(X_train, y_train, 0.003, batch_size=256, epochs=1)"
   ]
  },
  {
   "cell_type": "code",
   "execution_count": 12,
   "metadata": {},
   "outputs": [
    {
     "data": {
      "text/plain": [
       "(100, 32, 32, 3)"
      ]
     },
     "execution_count": 12,
     "metadata": {},
     "output_type": "execute_result"
    }
   ],
   "source": [
    "X_test.shape"
   ]
  },
  {
   "cell_type": "code",
   "execution_count": 13,
   "metadata": {},
   "outputs": [],
   "source": []
  },
  {
   "cell_type": "markdown",
   "metadata": {},
   "source": [
    "## Make predictions"
   ]
  },
  {
   "cell_type": "code",
   "execution_count": 14,
   "metadata": {},
   "outputs": [
    {
     "name": "stdout",
     "output_type": "stream",
     "text": [
      "A_prev input shape in Convolution forward prop: (100, 32, 32, 3)\n",
      "W weights input shape in Convolution forward prop: (3, 3, 3, 3)\n",
      "b biases input shape in Convolution forward prop: (1, 1, 1, 3)\n",
      "Z output shape in Convolution forward prop: (100, 32, 32, 3)\n",
      "A_prev input shape in Pooling forward: (100, 32, 32, 3)\n",
      "A output shape in Pooling forkward: (100, 16, 16, 3)\n",
      "Z input shape in Flatten forward prop: (100, 16, 16, 3)\n",
      "data output shape in Flatten forward prop: (768, 100)\n",
      "X input shape in Dense forward prop: (768, 100)\n",
      "W weights input shape in Dense forward prop: (10, 768)\n",
      "b biases input shape in Dense forward prop: (10, 1)\n",
      "Z input shape in Softmax forward prop: (10, 100)\n",
      "out output shape in Softmax forward prop: (10, 100)\n"
     ]
    }
   ],
   "source": [
    "# Make predictions on a small subset of the data.\n",
    "X_test = X_test[:100, :, :, :]\n",
    "\n",
    "predictions = model.predict(X_test)"
   ]
  },
  {
   "cell_type": "code",
   "execution_count": 15,
   "metadata": {},
   "outputs": [],
   "source": [
    "# Transpose the predictions  from (10, m) to (m, 10)\n",
    "predictions = predictions.T"
   ]
  },
  {
   "cell_type": "code",
   "execution_count": 16,
   "metadata": {},
   "outputs": [
    {
     "data": {
      "text/plain": [
       "array([[0.09977253, 0.10230637, 0.10419908, 0.10088161, 0.09899393,\n",
       "        0.09893035, 0.09870864, 0.09718642, 0.09264815, 0.10637292],\n",
       "       [0.09833001, 0.10031724, 0.10582797, 0.10266017, 0.09883655,\n",
       "        0.10147496, 0.09627745, 0.09756116, 0.09515752, 0.10355697],\n",
       "       [0.09947856, 0.10333728, 0.10427426, 0.1010951 , 0.09843927,\n",
       "        0.1006094 , 0.09690244, 0.09769771, 0.09422827, 0.1039377 ],\n",
       "       [0.10115187, 0.10203187, 0.10382478, 0.1000109 , 0.10056807,\n",
       "        0.09798854, 0.09886903, 0.09763491, 0.09243412, 0.10548591],\n",
       "       [0.09769993, 0.10091584, 0.10442737, 0.10270071, 0.09764931,\n",
       "        0.10086223, 0.09735123, 0.09930583, 0.09420572, 0.10488184]])"
      ]
     },
     "execution_count": 16,
     "metadata": {},
     "output_type": "execute_result"
    }
   ],
   "source": [
    "# Display the first five probability vectors for the first five images.\n",
    "predictions[:5]"
   ]
  },
  {
   "cell_type": "code",
   "execution_count": 17,
   "metadata": {},
   "outputs": [
    {
     "data": {
      "text/plain": [
       "1.0000000000000002"
      ]
     },
     "execution_count": 17,
     "metadata": {},
     "output_type": "execute_result"
    }
   ],
   "source": [
    "0.09977253 + 0.10230637 + 0.10419908 + 0.10088161 + 0.09899393 + 0.09893035 + 0.09870864 + 0.09718642 + 0.09264815 + 0.10637292"
   ]
  },
  {
   "cell_type": "code",
   "execution_count": null,
   "metadata": {},
   "outputs": [],
   "source": []
  }
 ],
 "metadata": {
  "kernelspec": {
   "display_name": "Python 3",
   "language": "python",
   "name": "python3"
  },
  "language_info": {
   "codemirror_mode": {
    "name": "ipython",
    "version": 3
   },
   "file_extension": ".py",
   "mimetype": "text/x-python",
   "name": "python",
   "nbconvert_exporter": "python",
   "pygments_lexer": "ipython3",
   "version": "3.7.9"
  }
 },
 "nbformat": 4,
 "nbformat_minor": 4
}
