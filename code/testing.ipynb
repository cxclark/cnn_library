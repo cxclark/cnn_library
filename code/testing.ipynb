{
 "cells": [
  {
   "cell_type": "code",
   "execution_count": 1,
   "metadata": {},
   "outputs": [],
   "source": [
    "from tensorflow.keras.datasets import cifar10\n",
    "(X_train, y_train), (X_test, y_test) = cifar10.load_data()"
   ]
  },
  {
   "cell_type": "code",
   "execution_count": 2,
   "metadata": {},
   "outputs": [
    {
     "name": "stdout",
     "output_type": "stream",
     "text": [
      "Shape of X_train: (50000, 32, 32, 3)\n",
      "Shape of X_test: (10000, 32, 32, 3)\n",
      "Shape of y_train: (50000, 1)\n",
      "Shape of y_test: (10000, 1)\n"
     ]
    }
   ],
   "source": [
    "# Display the shapes of the data.\n",
    "print(f'Shape of X_train: {X_train.shape}')\n",
    "print(f'Shape of X_test: {X_test.shape}')\n",
    "print(f'Shape of y_train: {y_train.shape}')\n",
    "print(f'Shape of y_test: {y_test.shape}')"
   ]
  },
  {
   "cell_type": "code",
   "execution_count": 3,
   "metadata": {},
   "outputs": [],
   "source": [
    "from layers_activation import ReluLayer\n",
    "from layers_convolution import ConvolutionLayer\n",
    "from layers_pooling import PoolLayer\n",
    "from layers_flatten import Flatten\n",
    "from layers_dense import DenseLayer\n",
    "from loss import SoftmaxLayer\n",
    "from network import Model"
   ]
  },
  {
   "cell_type": "code",
   "execution_count": 4,
   "metadata": {},
   "outputs": [],
   "source": [
    "model = Model(\n",
    "    ConvolutionLayer(filters=3, filter_size=3, padding=1, stride=1),\n",
    "    ReluLayer(),\n",
    "    PoolLayer(filter_size=2, stride=2, mode='max'),\n",
    "    Flatten(),\n",
    "    DenseLayer(units=10),\n",
    "    SoftmaxLayer()\n",
    ")"
   ]
  },
  {
   "cell_type": "code",
   "execution_count": 5,
   "metadata": {},
   "outputs": [
    {
     "data": {
      "text/plain": [
       "(50000, 32, 32, 3)"
      ]
     },
     "execution_count": 5,
     "metadata": {},
     "output_type": "execute_result"
    }
   ],
   "source": [
    "X_train.shape"
   ]
  },
  {
   "cell_type": "code",
   "execution_count": 6,
   "metadata": {},
   "outputs": [
    {
     "data": {
      "text/plain": [
       "(50000, 1)"
      ]
     },
     "execution_count": 6,
     "metadata": {},
     "output_type": "execute_result"
    }
   ],
   "source": [
    "y_train.shape"
   ]
  },
  {
   "cell_type": "code",
   "execution_count": 7,
   "metadata": {},
   "outputs": [],
   "source": [
    "# Downsize the training data in the interest of time\n",
    "X_train = X_train[ :1000, :, :, :]\n",
    "y_train = y_train[ :1000, :]"
   ]
  },
  {
   "cell_type": "code",
   "execution_count": 8,
   "metadata": {},
   "outputs": [
    {
     "name": "stdout",
     "output_type": "stream",
     "text": [
      "Running epoch: 1\n",
      "A_prev input shape in Convolution forward prop: (256, 32, 32, 3)\n",
      "W weights input shape in Convolution forward prop: (3, 3, 3, 3)\n",
      "b biases input shape in Convolution forward prop: (1, 1, 1, 3)\n",
      "Z output shape in Convolution forward prop: (256, 32, 32, 3)\n",
      "A_prev input shape in Pooling forward: (256, 32, 32, 3)\n",
      "A output shape in Pooling forkward: (256, 16, 16, 3)\n",
      "Z input shape in Flatten forward prop: (256, 16, 16, 3)\n",
      "data output shape in Flatten forward prop: (768, 256)\n",
      "X input shape in Dense forward prop: (768, 256)\n",
      "W weights input shape in Dense forward prop: (10, 768)\n",
      "b biases input shape in Dense forward prop: (10, 1)\n",
      "Z input shape in Softmax forward prop: (10, 256)\n",
      "out output shape in Softmax forward prop: (10, 256)\n",
      "mini_batch[0] shape (256, 32, 32, 3)\n",
      "mini_batch[1] shape (256, 10)\n",
      "mini_batch_preds final shape (10, 256)\n",
      "dA.shape: (10, 256)\n",
      "dA input shape in Softmax backward: (10, 256)\n",
      "Z input shape in Softmax backward: (10, 256)\n",
      "dZ input shape in Dense backward: (10, 256)\n",
      "out output shape in Dense backward: (768, 256)\n",
      "Z input shape in Flatten backward: (768, 256)\n",
      "Z transposed in Flatten backward: (256, 768)\n",
      "out output shape in Flatten backward: (256, 16, 16, 3)\n",
      "A_prev cache input shape in Pooling backward: (256, 32, 32, 3)\n",
      "dA input shape in Pooling backward: (256, 16, 16, 3)\n",
      "dA_prev output shape in Pooling backward: (256, 32, 32, 3)\n",
      "dZ input shape in Convolution backward: (256, 32, 32, 3)\n",
      "dW grads shape in Convolution backward: (3, 3, 3, 3)\n",
      "db grads shape in Convolution backward: (1, 1, 1, 3)\n",
      "dA_prev output shape in Convolution backward: (256, 32, 32, 3)\n",
      "A_prev input shape in Convolution forward prop: (256, 32, 32, 3)\n",
      "W weights input shape in Convolution forward prop: (3, 3, 3, 3)\n",
      "b biases input shape in Convolution forward prop: (1, 1, 1, 3)\n",
      "Z output shape in Convolution forward prop: (256, 32, 32, 3)\n",
      "A_prev input shape in Pooling forward: (256, 32, 32, 3)\n",
      "A output shape in Pooling forkward: (256, 16, 16, 3)\n",
      "Z input shape in Flatten forward prop: (256, 16, 16, 3)\n",
      "data output shape in Flatten forward prop: (768, 256)\n",
      "X input shape in Dense forward prop: (768, 256)\n",
      "W weights input shape in Dense forward prop: (10, 768)\n",
      "b biases input shape in Dense forward prop: (10, 1)\n",
      "Z input shape in Softmax forward prop: (10, 256)\n",
      "out output shape in Softmax forward prop: (10, 256)\n",
      "mini_batch[0] shape (256, 32, 32, 3)\n",
      "mini_batch[1] shape (256, 10)\n",
      "mini_batch_preds final shape (10, 256)\n",
      "dA.shape: (10, 256)\n",
      "dA input shape in Softmax backward: (10, 256)\n",
      "Z input shape in Softmax backward: (10, 256)\n",
      "dZ input shape in Dense backward: (10, 256)\n",
      "out output shape in Dense backward: (768, 256)\n",
      "Z input shape in Flatten backward: (768, 256)\n",
      "Z transposed in Flatten backward: (256, 768)\n",
      "out output shape in Flatten backward: (256, 16, 16, 3)\n"
     ]
    },
    {
     "name": "stderr",
     "output_type": "stream",
     "text": [
      "/home/lyzka/Desktop/DSI-R824/capstone/cnn_library/code/loss.py:14: RuntimeWarning: overflow encountered in exp\n",
      "  out = np.exp(Z) / np.sum(np.exp(Z), axis=0)\n",
      "/home/lyzka/Desktop/DSI-R824/capstone/cnn_library/code/loss.py:14: RuntimeWarning: invalid value encountered in true_divide\n",
      "  out = np.exp(Z) / np.sum(np.exp(Z), axis=0)\n"
     ]
    },
    {
     "name": "stdout",
     "output_type": "stream",
     "text": [
      "A_prev cache input shape in Pooling backward: (256, 32, 32, 3)\n",
      "dA input shape in Pooling backward: (256, 16, 16, 3)\n",
      "dA_prev output shape in Pooling backward: (256, 32, 32, 3)\n",
      "dZ input shape in Convolution backward: (256, 32, 32, 3)\n",
      "dW grads shape in Convolution backward: (3, 3, 3, 3)\n",
      "db grads shape in Convolution backward: (1, 1, 1, 3)\n",
      "dA_prev output shape in Convolution backward: (256, 32, 32, 3)\n",
      "A_prev input shape in Convolution forward prop: (256, 32, 32, 3)\n",
      "W weights input shape in Convolution forward prop: (3, 3, 3, 3)\n",
      "b biases input shape in Convolution forward prop: (1, 1, 1, 3)\n",
      "Z output shape in Convolution forward prop: (256, 32, 32, 3)\n",
      "A_prev input shape in Pooling forward: (256, 32, 32, 3)\n",
      "A output shape in Pooling forkward: (256, 16, 16, 3)\n",
      "Z input shape in Flatten forward prop: (256, 16, 16, 3)\n",
      "data output shape in Flatten forward prop: (768, 256)\n",
      "X input shape in Dense forward prop: (768, 256)\n",
      "W weights input shape in Dense forward prop: (10, 768)\n",
      "b biases input shape in Dense forward prop: (10, 1)\n",
      "Z input shape in Softmax forward prop: (10, 256)\n",
      "out output shape in Softmax forward prop: (10, 256)\n",
      "mini_batch[0] shape (256, 32, 32, 3)\n",
      "mini_batch[1] shape (256, 10)\n",
      "mini_batch_preds final shape (10, 256)\n",
      "dA.shape: (10, 256)\n",
      "dA input shape in Softmax backward: (10, 256)\n",
      "Z input shape in Softmax backward: (10, 256)\n",
      "dZ input shape in Dense backward: (10, 256)\n",
      "out output shape in Dense backward: (768, 256)\n",
      "Z input shape in Flatten backward: (768, 256)\n",
      "Z transposed in Flatten backward: (256, 768)\n",
      "out output shape in Flatten backward: (256, 16, 16, 3)\n",
      "A_prev cache input shape in Pooling backward: (256, 32, 32, 3)\n",
      "dA input shape in Pooling backward: (256, 16, 16, 3)\n",
      "dA_prev output shape in Pooling backward: (256, 32, 32, 3)\n",
      "dZ input shape in Convolution backward: (256, 32, 32, 3)\n",
      "dW grads shape in Convolution backward: (3, 3, 3, 3)\n",
      "db grads shape in Convolution backward: (1, 1, 1, 3)\n",
      "dA_prev output shape in Convolution backward: (256, 32, 32, 3)\n",
      "A_prev input shape in Convolution forward prop: (232, 32, 32, 3)\n",
      "W weights input shape in Convolution forward prop: (3, 3, 3, 3)\n",
      "b biases input shape in Convolution forward prop: (1, 1, 1, 3)\n",
      "Z output shape in Convolution forward prop: (232, 32, 32, 3)\n",
      "A_prev input shape in Pooling forward: (232, 32, 32, 3)\n",
      "A output shape in Pooling forkward: (232, 16, 16, 3)\n",
      "Z input shape in Flatten forward prop: (232, 16, 16, 3)\n",
      "data output shape in Flatten forward prop: (768, 232)\n",
      "X input shape in Dense forward prop: (768, 232)\n",
      "W weights input shape in Dense forward prop: (10, 768)\n",
      "b biases input shape in Dense forward prop: (10, 1)\n",
      "Z input shape in Softmax forward prop: (10, 232)\n",
      "out output shape in Softmax forward prop: (10, 232)\n",
      "mini_batch[0] shape (232, 32, 32, 3)\n",
      "mini_batch[1] shape (232, 10)\n",
      "mini_batch_preds final shape (10, 232)\n",
      "dA.shape: (10, 232)\n",
      "dA input shape in Softmax backward: (10, 232)\n",
      "Z input shape in Softmax backward: (10, 232)\n",
      "dZ input shape in Dense backward: (10, 232)\n",
      "out output shape in Dense backward: (768, 232)\n",
      "Z input shape in Flatten backward: (768, 232)\n",
      "Z transposed in Flatten backward: (232, 768)\n",
      "out output shape in Flatten backward: (232, 16, 16, 3)\n",
      "A_prev cache input shape in Pooling backward: (232, 32, 32, 3)\n",
      "dA input shape in Pooling backward: (232, 16, 16, 3)\n",
      "dA_prev output shape in Pooling backward: (232, 32, 32, 3)\n",
      "dZ input shape in Convolution backward: (232, 32, 32, 3)\n",
      "dW grads shape in Convolution backward: (3, 3, 3, 3)\n",
      "db grads shape in Convolution backward: (1, 1, 1, 3)\n",
      "dA_prev output shape in Convolution backward: (232, 32, 32, 3)\n"
     ]
    }
   ],
   "source": [
    "model.train(X_train, y_train, 0.003, batch_size=256, epochs=1)"
   ]
  },
  {
   "cell_type": "code",
   "execution_count": null,
   "metadata": {},
   "outputs": [],
   "source": []
  },
  {
   "cell_type": "code",
   "execution_count": 9,
   "metadata": {},
   "outputs": [
    {
     "data": {
      "text/plain": [
       "(10000, 32, 32, 3)"
      ]
     },
     "execution_count": 9,
     "metadata": {},
     "output_type": "execute_result"
    }
   ],
   "source": [
    "X_test.shape"
   ]
  },
  {
   "cell_type": "code",
   "execution_count": 10,
   "metadata": {},
   "outputs": [
    {
     "ename": "TypeError",
     "evalue": "only integer scalar arrays can be converted to a scalar index",
     "output_type": "error",
     "traceback": [
      "\u001b[0;31m---------------------------------------------------------------------------\u001b[0m",
      "\u001b[0;31mTypeError\u001b[0m                                 Traceback (most recent call last)",
      "\u001b[0;32m<ipython-input-10-decd67bbf386>\u001b[0m in \u001b[0;36m<module>\u001b[0;34m\u001b[0m\n\u001b[0;32m----> 1\u001b[0;31m \u001b[0mmodel\u001b[0m\u001b[0;34m.\u001b[0m\u001b[0mpredict\u001b[0m\u001b[0;34m(\u001b[0m\u001b[0mX_test\u001b[0m\u001b[0;34m)\u001b[0m\u001b[0;34m\u001b[0m\u001b[0;34m\u001b[0m\u001b[0m\n\u001b[0m",
      "\u001b[0;32m~/Desktop/DSI-R824/capstone/cnn_library/code/network.py\u001b[0m in \u001b[0;36mpredict\u001b[0;34m(self, X)\u001b[0m\n\u001b[1;32m     76\u001b[0m         \"\"\"\n\u001b[1;32m     77\u001b[0m         \u001b[0;31m# Initialize a numpy array for predictions of the correct shape.\u001b[0m\u001b[0;34m\u001b[0m\u001b[0;34m\u001b[0m\u001b[0;34m\u001b[0m\u001b[0m\n\u001b[0;32m---> 78\u001b[0;31m         \u001b[0mpredictions\u001b[0m \u001b[0;34m=\u001b[0m \u001b[0mnp\u001b[0m\u001b[0;34m.\u001b[0m\u001b[0mzeros\u001b[0m\u001b[0;34m(\u001b[0m\u001b[0;34m(\u001b[0m\u001b[0mX\u001b[0m\u001b[0;34m,\u001b[0m \u001b[0mself\u001b[0m\u001b[0;34m.\u001b[0m\u001b[0mnum_classes\u001b[0m\u001b[0;34m)\u001b[0m\u001b[0;34m)\u001b[0m\u001b[0;34m\u001b[0m\u001b[0;34m\u001b[0m\u001b[0m\n\u001b[0m\u001b[1;32m     79\u001b[0m \u001b[0;34m\u001b[0m\u001b[0m\n\u001b[1;32m     80\u001b[0m         \u001b[0;31m# Loop through the layers in the network.\u001b[0m\u001b[0;34m\u001b[0m\u001b[0;34m\u001b[0m\u001b[0;34m\u001b[0m\u001b[0m\n",
      "\u001b[0;31mTypeError\u001b[0m: only integer scalar arrays can be converted to a scalar index"
     ]
    }
   ],
   "source": [
    "model.predict(X_test)"
   ]
  },
  {
   "cell_type": "code",
   "execution_count": null,
   "metadata": {},
   "outputs": [],
   "source": []
  },
  {
   "cell_type": "code",
   "execution_count": null,
   "metadata": {},
   "outputs": [],
   "source": []
  },
  {
   "cell_type": "code",
   "execution_count": null,
   "metadata": {},
   "outputs": [],
   "source": []
  },
  {
   "cell_type": "code",
   "execution_count": null,
   "metadata": {},
   "outputs": [],
   "source": []
  },
  {
   "cell_type": "code",
   "execution_count": null,
   "metadata": {},
   "outputs": [],
   "source": [
    "def to_categorical(labels, num_classes):\n",
    "    \"\"\"\n",
    "    Converts image labels to one-hot encoded binary vectors with length of num_classes.\n",
    "    Arguments:\n",
    "        labels -- image classification labels e.g. 1 = 'airplane', nested numpy arrays of integers.\n",
    "        num_classes -- number of classes in image classification task, integer.\n",
    "    Returns:\n",
    "        label_vec -- binary vector representation of the class, 1 for correct label, 0's otherwise. \n",
    "    \"\"\"\n",
    "    # Initialize a zero matrix with the correct dimensions.\n",
    "    label_vec = np.zeros((len(labels), num_classes))\n",
    "    # Loop through the labels in the input.\n",
    "    for i in range(len(labels)):\n",
    "        # Create an new index for binary encoding, subtracting 1. \n",
    "        # An image with label [6] on a scale of 1-10, will have a 1 at index 5 in the vector.\n",
    "        new_index = labels[i][0] - 1\n",
    "        # Replace the 0 at the given location with a 1 for the correct class.\n",
    "        label_vec[i][new_index] = 1\n",
    "    return label_vec"
   ]
  },
  {
   "cell_type": "code",
   "execution_count": null,
   "metadata": {},
   "outputs": [],
   "source": [
    "import numpy as np\n",
    "y_train_mine = to_categorical(y_train, 10)"
   ]
  },
  {
   "cell_type": "code",
   "execution_count": null,
   "metadata": {},
   "outputs": [],
   "source": [
    "y_train_mine.shape"
   ]
  },
  {
   "cell_type": "code",
   "execution_count": null,
   "metadata": {},
   "outputs": [],
   "source": []
  }
 ],
 "metadata": {
  "kernelspec": {
   "display_name": "Python 3",
   "language": "python",
   "name": "python3"
  },
  "language_info": {
   "codemirror_mode": {
    "name": "ipython",
    "version": 3
   },
   "file_extension": ".py",
   "mimetype": "text/x-python",
   "name": "python",
   "nbconvert_exporter": "python",
   "pygments_lexer": "ipython3",
   "version": "3.7.9"
  }
 },
 "nbformat": 4,
 "nbformat_minor": 4
}
