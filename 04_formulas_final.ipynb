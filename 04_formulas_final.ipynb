{
 "cells": [
  {
   "cell_type": "markdown",
   "metadata": {},
   "source": [
    "## Score Function\n",
    "\n",
    "$$Z = WX + B$$"
   ]
  },
  {
   "cell_type": "markdown",
   "metadata": {},
   "source": [
    "## Activation: ReLU\n",
    "Forward:\n",
    "$$A = max(0, Z)$$\n",
    "\n",
    "Backward:\n",
    "$$f(x)=\\begin{cases}\n",
    "    0 & \\text{if Z < 0}\\\\\n",
    "    1 & \\text{if Z > 0}\\end{cases}$$"
   ]
  },
  {
   "cell_type": "markdown",
   "metadata": {},
   "source": [
    "## Activation: Softmax\n",
    "Forward:\n",
    "$$L_i = -log\\frac{e^s_{y_i}}{\\sum_{j} e^s_j}$$\n",
    "\n",
    "Backward:\n",
    "$$Z(1 - Z)$$"
   ]
  },
  {
   "cell_type": "markdown",
   "metadata": {},
   "source": [
    "## Full Loss\n",
    "\n",
    "$$L = \\frac{1}{N}\\sum^N_{i=1}L_i + R(W)$$"
   ]
  },
  {
   "cell_type": "markdown",
   "metadata": {},
   "source": [
    "## Update\n",
    "\n"
   ]
  },
  {
   "cell_type": "markdown",
   "metadata": {},
   "source": [
    "## Learning Rate Decay\n",
    "\n",
    "**step decay**:\n",
    "e.g. decay learning rate by half every few epochs\n",
    "\n",
    "**exponential decay**:\n",
    "$$\\alpha = \\alpha_0e^{-kt}$$\n",
    "\n",
    "**1/t decay**:\n",
    "$$\\alpha = \\frac{\\alpha_0}{1 + kt}$$"
   ]
  },
  {
   "cell_type": "markdown",
   "metadata": {},
   "source": [
    "## Convolution output size\n",
    "*n* x *n* image  \n",
    "*f* x *f* filter  \n",
    "padding *p*  \n",
    "stride *s*  \n",
    "\n",
    "$$\\left[  \\frac{n+2p-f}{s} + 1 \\right] x \\left[  \\frac{n+2p-f}{s} + 1 \\right]$$"
   ]
  },
  {
   "cell_type": "markdown",
   "metadata": {},
   "source": [
    "## Padding\n",
    "Common to use this to preserve size spatially:\n",
    "$$\\frac{F-1}{2}$$"
   ]
  }
 ],
 "metadata": {
  "kernelspec": {
   "display_name": "Python 3",
   "language": "python",
   "name": "python3"
  },
  "language_info": {
   "codemirror_mode": {
    "name": "ipython",
    "version": 3
   },
   "file_extension": ".py",
   "mimetype": "text/x-python",
   "name": "python",
   "nbconvert_exporter": "python",
   "pygments_lexer": "ipython3",
   "version": "3.7.9"
  }
 },
 "nbformat": 4,
 "nbformat_minor": 4
}
