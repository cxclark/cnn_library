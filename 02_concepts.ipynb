{
 "cells": [
  {
   "cell_type": "markdown",
   "metadata": {},
   "source": [
    "[Tinygrad](https://github.com/geohot/tinygrad)  \n",
    "[Micrograd](https://github.com/karpathy/micrograd)  \n",
    "[Conv Arithmetic](https://github.com/vdumoulin/conv_arithmetic)"
   ]
  },
  {
   "cell_type": "markdown",
   "metadata": {},
   "source": [
    "1. One time setup\n",
    "    - activation functions, preprorcessing, weight initialization, regularization, gradient checking\n",
    "2. Training dynamics\n",
    "    - babysitting the learning process, parameter updates, hyperparameter optimization\n",
    "3. Evaluation\n",
    "    - model ensembles\n",
    "    \n",
    "- MVP:\n",
    "    - Layers:\n",
    "        - Convolutional layers\n",
    "        - Fully connected layers\n",
    "        - Loss layers\n",
    "        - Pooling layers\n",
    "    - Network structure:\n",
    "        - Something that puts layers together\n",
    "    - 3D volumes of numbers:\n",
    "        - A class that tracks and transforms 3D number volumes that represent RGB images\n",
    "\n",
    "- Concepts:\n",
    "    - Forward prop\n",
    "    - Backprop\n",
    "    - Cache\n",
    "    - Padding\n",
    "    - Stride\n",
    "    - Batch normalizaiton\n",
    "    - Vectorization"
   ]
  },
  {
   "cell_type": "markdown",
   "metadata": {},
   "source": [
    "### Forward Prop"
   ]
  },
  {
   "cell_type": "markdown",
   "metadata": {},
   "source": [
    "### Backpropagation"
   ]
  },
  {
   "cell_type": "markdown",
   "metadata": {},
   "source": [
    "### Parameter Update\n",
    "*(how you use gradients to update your weights)*  \n",
    "\n",
    "    Stochastic Gradient Descent (SGD)  \n",
    "    SGD + Momentum  \n",
    "    SGD + Nesterov Momentum  \n",
    "    Adagrad  \n",
    "    RMSProp  \n",
    "    **Adam**  "
   ]
  },
  {
   "cell_type": "markdown",
   "metadata": {},
   "source": [
    "### Layers\n",
    "- All layers must behave one way in forward pass, one way in backward pass  \n",
    "- In forward pass we compute scores\n",
    "- In backward pass we eventually learn dL/dz, and we chain that backward"
   ]
  },
  {
   "cell_type": "markdown",
   "metadata": {},
   "source": [
    "### CONV Layers\n",
    "- Requires 4 hyperparameters: K (num filters), F (filter size), S (stride), and P (zero padding)"
   ]
  },
  {
   "cell_type": "markdown",
   "metadata": {},
   "source": [
    "### Learning Rate Decay"
   ]
  },
  {
   "cell_type": "markdown",
   "metadata": {},
   "source": [
    "### Activation functions\n",
    "    Use ReLU"
   ]
  },
  {
   "cell_type": "markdown",
   "metadata": {},
   "source": [
    "### Data Preprocessing\n",
    "    images: subtract mean"
   ]
  },
  {
   "cell_type": "markdown",
   "metadata": {},
   "source": [
    "### Weight Initialization\n",
    "    use Xavier (?)"
   ]
  },
  {
   "cell_type": "markdown",
   "metadata": {},
   "source": [
    "### Batch Normalization"
   ]
  },
  {
   "cell_type": "code",
   "execution_count": null,
   "metadata": {},
   "outputs": [],
   "source": []
  }
 ],
 "metadata": {
  "kernelspec": {
   "display_name": "Python 3",
   "language": "python",
   "name": "python3"
  },
  "language_info": {
   "codemirror_mode": {
    "name": "ipython",
    "version": 3
   },
   "file_extension": ".py",
   "mimetype": "text/x-python",
   "name": "python",
   "nbconvert_exporter": "python",
   "pygments_lexer": "ipython3",
   "version": "3.7.9"
  }
 },
 "nbformat": 4,
 "nbformat_minor": 4
}
