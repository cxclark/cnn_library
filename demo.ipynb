{
 "cells": [
  {
   "cell_type": "markdown",
   "metadata": {},
   "source": [
    "## Imports"
   ]
  },
  {
   "cell_type": "code",
   "execution_count": 1,
   "metadata": {},
   "outputs": [],
   "source": [
    "# Import CIFAR-10 training data.\n",
    "from tensorflow.keras.datasets import cifar10\n",
    "(X_train, y_train), (X_test, y_test) = cifar10.load_data()"
   ]
  },
  {
   "cell_type": "code",
   "execution_count": 2,
   "metadata": {},
   "outputs": [
    {
     "name": "stdout",
     "output_type": "stream",
     "text": [
      "Shape of X_train: (50000, 32, 32, 3)\n",
      "Shape of X_test: (10000, 32, 32, 3)\n",
      "Shape of y_train: (50000, 1)\n",
      "Shape of y_test: (10000, 1)\n"
     ]
    }
   ],
   "source": [
    "# Display the shapes of the data.\n",
    "print(f'Shape of X_train: {X_train.shape}')\n",
    "print(f'Shape of X_test: {X_test.shape}')\n",
    "print(f'Shape of y_train: {y_train.shape}')\n",
    "print(f'Shape of y_test: {y_test.shape}')"
   ]
  },
  {
   "cell_type": "markdown",
   "metadata": {},
   "source": [
    "## Instantiate and Run Model"
   ]
  },
  {
   "cell_type": "code",
   "execution_count": 3,
   "metadata": {},
   "outputs": [],
   "source": [
    "# Import the required modules.\n",
    "from hive_ml.layers.activation import ReluLayer\n",
    "from hive_ml.layers.convolution import ConvolutionLayer\n",
    "from hive_ml.layers.pooling import PoolLayer\n",
    "from hive_ml.layers.flatten import Flatten\n",
    "from hive_ml.layers.dense import DenseLayer\n",
    "from hive_ml.layers.loss import SoftmaxLayer\n",
    "from hive_ml.network import Model"
   ]
  },
  {
   "cell_type": "code",
   "execution_count": 4,
   "metadata": {},
   "outputs": [],
   "source": [
    "# Instantiate a model.\n",
    "model = Model(\n",
    "    ConvolutionLayer(filters=3, filter_size=3, padding=1, stride=1),\n",
    "    ReluLayer(),\n",
    "    PoolLayer(filter_size=2, stride=2, mode='max'),\n",
    "    Flatten(),\n",
    "    DenseLayer(units=100),\n",
    "    DenseLayer(units=10),\n",
    "    SoftmaxLayer()\n",
    ")"
   ]
  },
  {
   "cell_type": "code",
   "execution_count": 6,
   "metadata": {},
   "outputs": [
    {
     "name": "stdout",
     "output_type": "stream",
     "text": [
      "Running epoch: 1\n",
      "Loss epoch 1: 1184.345\n",
      "Accuracy epoch 1: 11.523%\n"
     ]
    }
   ],
   "source": [
    "# Train the model.\n",
    "model.train(X_train, y_train, 0.003, batch_size=256, epochs=1)"
   ]
  },
  {
   "cell_type": "code",
   "execution_count": 5,
   "metadata": {},
   "outputs": [],
   "source": [
    "# Downsize the training data in the interest of time.\n",
    "X_train = X_train[ :512, :, :, :]\n",
    "y_train = y_train[ :512, :]"
   ]
  },
  {
   "cell_type": "markdown",
   "metadata": {},
   "source": [
    "## Make predictions"
   ]
  },
  {
   "cell_type": "code",
   "execution_count": 7,
   "metadata": {},
   "outputs": [],
   "source": [
    "# Make predictions on a small subset of the data.\n",
    "X_test = X_test[:100, :, :, :]\n",
    "y_test = y_test[:100, :]\n",
    "\n",
    "predictions = model.predict(X_test)"
   ]
  },
  {
   "cell_type": "code",
   "execution_count": 8,
   "metadata": {},
   "outputs": [],
   "source": [
    "# Transpose the predictions  from (10, m) to (m, 10)\n",
    "predictions = predictions.T"
   ]
  },
  {
   "cell_type": "code",
   "execution_count": 9,
   "metadata": {},
   "outputs": [
    {
     "data": {
      "text/plain": [
       "array([[0.13968486, 0.09753455, 0.08787113, 0.09463016, 0.07428229,\n",
       "        0.09596383, 0.13066136, 0.08546314, 0.09168987, 0.1022188 ],\n",
       "       [0.11285136, 0.08440378, 0.11815861, 0.10701939, 0.08537904,\n",
       "        0.11106264, 0.08899916, 0.10202923, 0.10866774, 0.08142906],\n",
       "       [0.10291336, 0.09109057, 0.11130467, 0.10333951, 0.07951083,\n",
       "        0.08781554, 0.10550264, 0.0893516 , 0.11307288, 0.1160984 ],\n",
       "       [0.12939774, 0.09419388, 0.09746473, 0.10335374, 0.08003834,\n",
       "        0.08934228, 0.11396588, 0.08037879, 0.08705894, 0.12480568],\n",
       "       [0.12759208, 0.08035825, 0.11731029, 0.10211772, 0.08592095,\n",
       "        0.10187573, 0.08872641, 0.10288284, 0.10819605, 0.0850197 ]])"
      ]
     },
     "execution_count": 9,
     "metadata": {},
     "output_type": "execute_result"
    }
   ],
   "source": [
    "# Display the probability vectors for the first five images.\n",
    "predictions[:5]"
   ]
  },
  {
   "cell_type": "markdown",
   "metadata": {},
   "source": [
    "## Evaluate predictions"
   ]
  },
  {
   "cell_type": "code",
   "execution_count": 10,
   "metadata": {},
   "outputs": [
    {
     "name": "stdout",
     "output_type": "stream",
     "text": [
      "evaluate probabilities shape (10, 100)\n",
      "Accuracy: 67.0%\n"
     ]
    }
   ],
   "source": [
    "# Evaluate the model on a small subset of the data.\n",
    "model.evaluate(X_test, y_test)"
   ]
  }
 ],
 "metadata": {
  "kernelspec": {
   "display_name": "Python 3",
   "language": "python",
   "name": "python3"
  },
  "language_info": {
   "codemirror_mode": {
    "name": "ipython",
    "version": 3
   },
   "file_extension": ".py",
   "mimetype": "text/x-python",
   "name": "python",
   "nbconvert_exporter": "python",
   "pygments_lexer": "ipython3",
   "version": "3.7.9"
  }
 },
 "nbformat": 4,
 "nbformat_minor": 4
}
