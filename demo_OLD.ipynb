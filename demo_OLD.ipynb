{
 "cells": [
  {
   "cell_type": "markdown",
   "metadata": {},
   "source": [
    "## Imports"
   ]
  },
  {
   "cell_type": "code",
   "execution_count": 12,
   "metadata": {},
   "outputs": [],
   "source": [
    "# Import CIFAR-10 training data.\n",
    "from tensorflow.keras.datasets import cifar10\n",
    "(X_train, y_train), (X_test, y_test) = cifar10.load_data()"
   ]
  },
  {
   "cell_type": "code",
   "execution_count": 2,
   "metadata": {},
   "outputs": [
    {
     "name": "stdout",
     "output_type": "stream",
     "text": [
      "Shape of X_train: (50000, 32, 32, 3)\n",
      "Shape of X_test: (10000, 32, 32, 3)\n",
      "Shape of y_train: (50000, 1)\n",
      "Shape of y_test: (10000, 1)\n"
     ]
    }
   ],
   "source": [
    "# Display the shapes of the data.\n",
    "print(f'Shape of X_train: {X_train.shape}')\n",
    "print(f'Shape of X_test: {X_test.shape}')\n",
    "print(f'Shape of y_train: {y_train.shape}')\n",
    "print(f'Shape of y_test: {y_test.shape}')"
   ]
  },
  {
   "cell_type": "code",
   "execution_count": 3,
   "metadata": {},
   "outputs": [],
   "source": [
    "# Import the required modules.\n",
    "from hive_ml.layers.activation import ReluLayer\n",
    "from hive_ml.layers.convolution import ConvolutionLayer\n",
    "from hive_ml.layers.pooling import PoolLayer\n",
    "from hive_ml.layers.flatten import Flatten\n",
    "from hive_ml.layers.dense import DenseLayer\n",
    "from hive_ml.layers.loss import SoftmaxLayer\n",
    "from hive_ml.network import Model"
   ]
  },
  {
   "cell_type": "markdown",
   "metadata": {},
   "source": [
    "## Instantiate and Run Model"
   ]
  },
  {
   "cell_type": "code",
   "execution_count": 4,
   "metadata": {},
   "outputs": [],
   "source": [
    "# Instantiate a model.\n",
    "model = Model(\n",
    "    ConvolutionLayer(filters=3, filter_size=3, padding=1, stride=1),\n",
    "    ReluLayer(),\n",
    "    PoolLayer(filter_size=2, stride=2, mode='max'),\n",
    "    Flatten(),\n",
    "    DenseLayer(units=10),\n",
    "    SoftmaxLayer()\n",
    ")"
   ]
  },
  {
   "cell_type": "code",
   "execution_count": 5,
   "metadata": {},
   "outputs": [],
   "source": [
    "# Downsize the training data in the interest of time.\n",
    "# Extract 512 examples.\n",
    "X_train = X_train[ :1024, :, :, :]\n",
    "y_train = y_train[ :1024, :]"
   ]
  },
  {
   "cell_type": "code",
   "execution_count": 6,
   "metadata": {},
   "outputs": [
    {
     "name": "stdout",
     "output_type": "stream",
     "text": [
      "Running epoch: 1\n",
      "A_prev input shape in Convolution forward prop: (256, 32, 32, 3)\n",
      "W weights input shape in Convolution forward prop: (3, 3, 3, 3)\n",
      "b biases input shape in Convolution forward prop: (1, 1, 1, 3)\n",
      "Z output shape in Convolution forward prop: (256, 32, 32, 3)\n",
      "A_prev input shape in Pooling forward: (256, 32, 32, 3)\n",
      "A output shape in Pooling forkward: (256, 16, 16, 3)\n",
      "Z input shape in Flatten forward prop: (256, 16, 16, 3)\n",
      "data output shape in Flatten forward prop: (768, 256)\n",
      "X input shape in Dense forward prop: (768, 256)\n",
      "W weights input shape in Dense forward prop: (10, 768)\n",
      "b biases input shape in Dense forward prop: (10, 1)\n",
      "expZ shape after np.exp(Z - np.max(Z)): (10, 256)\n",
      "Z input shape in Softmax forward prop: (10, 256)\n",
      "out output shape in Softmax forward prop: (10, 256)\n",
      "dA input shape in Softmax backward: (10, 256)\n",
      "Z input shape in Softmax backward: (10, 256)\n",
      "dZ input shape in Dense backward: (10, 256)\n",
      "out output shape in Dense backward: (768, 256)\n",
      "Z input shape in Flatten backward: (768, 256)\n",
      "Z transposed in Flatten backward: (256, 768)\n",
      "out output shape in Flatten backward: (256, 16, 16, 3)\n",
      "A_prev cache input shape in Pooling backward: (256, 32, 32, 3)\n",
      "dA input shape in Pooling backward: (256, 16, 16, 3)\n",
      "dA_prev output shape in Pooling backward: (256, 32, 32, 3)\n",
      "dZ input shape in Convolution backward: (256, 32, 32, 3)\n",
      "dW grads shape in Convolution backward: (3, 3, 3, 3)\n",
      "db grads shape in Convolution backward: (1, 1, 1, 3)\n",
      "dA_prev output shape in Convolution backward: (256, 32, 32, 3)\n",
      "A_prev input shape in Convolution forward prop: (256, 32, 32, 3)\n",
      "W weights input shape in Convolution forward prop: (3, 3, 3, 3)\n",
      "b biases input shape in Convolution forward prop: (1, 1, 1, 3)\n",
      "Z output shape in Convolution forward prop: (256, 32, 32, 3)\n",
      "A_prev input shape in Pooling forward: (256, 32, 32, 3)\n",
      "A output shape in Pooling forkward: (256, 16, 16, 3)\n",
      "Z input shape in Flatten forward prop: (256, 16, 16, 3)\n",
      "data output shape in Flatten forward prop: (768, 256)\n",
      "X input shape in Dense forward prop: (768, 256)\n",
      "W weights input shape in Dense forward prop: (10, 768)\n",
      "b biases input shape in Dense forward prop: (10, 1)\n",
      "expZ shape after np.exp(Z - np.max(Z)): (10, 256)\n",
      "Z input shape in Softmax forward prop: (10, 256)\n",
      "out output shape in Softmax forward prop: (10, 256)\n",
      "dA input shape in Softmax backward: (10, 256)\n",
      "Z input shape in Softmax backward: (10, 256)\n",
      "dZ input shape in Dense backward: (10, 256)\n",
      "out output shape in Dense backward: (768, 256)\n",
      "Z input shape in Flatten backward: (768, 256)\n",
      "Z transposed in Flatten backward: (256, 768)\n",
      "out output shape in Flatten backward: (256, 16, 16, 3)\n",
      "A_prev cache input shape in Pooling backward: (256, 32, 32, 3)\n",
      "dA input shape in Pooling backward: (256, 16, 16, 3)\n",
      "dA_prev output shape in Pooling backward: (256, 32, 32, 3)\n",
      "dZ input shape in Convolution backward: (256, 32, 32, 3)\n",
      "dW grads shape in Convolution backward: (3, 3, 3, 3)\n",
      "db grads shape in Convolution backward: (1, 1, 1, 3)\n",
      "dA_prev output shape in Convolution backward: (256, 32, 32, 3)\n",
      "A_prev input shape in Convolution forward prop: (256, 32, 32, 3)\n",
      "W weights input shape in Convolution forward prop: (3, 3, 3, 3)\n",
      "b biases input shape in Convolution forward prop: (1, 1, 1, 3)\n",
      "Z output shape in Convolution forward prop: (256, 32, 32, 3)\n",
      "A_prev input shape in Pooling forward: (256, 32, 32, 3)\n",
      "A output shape in Pooling forkward: (256, 16, 16, 3)\n",
      "Z input shape in Flatten forward prop: (256, 16, 16, 3)\n",
      "data output shape in Flatten forward prop: (768, 256)\n",
      "X input shape in Dense forward prop: (768, 256)\n",
      "W weights input shape in Dense forward prop: (10, 768)\n",
      "b biases input shape in Dense forward prop: (10, 1)\n",
      "expZ shape after np.exp(Z - np.max(Z)): (10, 256)\n",
      "Z input shape in Softmax forward prop: (10, 256)\n",
      "out output shape in Softmax forward prop: (10, 256)\n",
      "dA input shape in Softmax backward: (10, 256)\n",
      "Z input shape in Softmax backward: (10, 256)\n",
      "dZ input shape in Dense backward: (10, 256)\n",
      "out output shape in Dense backward: (768, 256)\n",
      "Z input shape in Flatten backward: (768, 256)\n",
      "Z transposed in Flatten backward: (256, 768)\n",
      "out output shape in Flatten backward: (256, 16, 16, 3)\n",
      "A_prev cache input shape in Pooling backward: (256, 32, 32, 3)\n",
      "dA input shape in Pooling backward: (256, 16, 16, 3)\n",
      "dA_prev output shape in Pooling backward: (256, 32, 32, 3)\n",
      "dZ input shape in Convolution backward: (256, 32, 32, 3)\n",
      "dW grads shape in Convolution backward: (3, 3, 3, 3)\n",
      "db grads shape in Convolution backward: (1, 1, 1, 3)\n",
      "dA_prev output shape in Convolution backward: (256, 32, 32, 3)\n",
      "A_prev input shape in Convolution forward prop: (256, 32, 32, 3)\n",
      "W weights input shape in Convolution forward prop: (3, 3, 3, 3)\n",
      "b biases input shape in Convolution forward prop: (1, 1, 1, 3)\n",
      "Z output shape in Convolution forward prop: (256, 32, 32, 3)\n",
      "A_prev input shape in Pooling forward: (256, 32, 32, 3)\n",
      "A output shape in Pooling forkward: (256, 16, 16, 3)\n",
      "Z input shape in Flatten forward prop: (256, 16, 16, 3)\n",
      "data output shape in Flatten forward prop: (768, 256)\n",
      "X input shape in Dense forward prop: (768, 256)\n",
      "W weights input shape in Dense forward prop: (10, 768)\n",
      "b biases input shape in Dense forward prop: (10, 1)\n",
      "expZ shape after np.exp(Z - np.max(Z)): (10, 256)\n",
      "Z input shape in Softmax forward prop: (10, 256)\n",
      "out output shape in Softmax forward prop: (10, 256)\n",
      "dA input shape in Softmax backward: (10, 256)\n",
      "Z input shape in Softmax backward: (10, 256)\n",
      "dZ input shape in Dense backward: (10, 256)\n",
      "out output shape in Dense backward: (768, 256)\n",
      "Z input shape in Flatten backward: (768, 256)\n",
      "Z transposed in Flatten backward: (256, 768)\n",
      "out output shape in Flatten backward: (256, 16, 16, 3)\n",
      "A_prev cache input shape in Pooling backward: (256, 32, 32, 3)\n",
      "dA input shape in Pooling backward: (256, 16, 16, 3)\n",
      "dA_prev output shape in Pooling backward: (256, 32, 32, 3)\n",
      "dZ input shape in Convolution backward: (256, 32, 32, 3)\n",
      "dW grads shape in Convolution backward: (3, 3, 3, 3)\n",
      "db grads shape in Convolution backward: (1, 1, 1, 3)\n",
      "dA_prev output shape in Convolution backward: (256, 32, 32, 3)\n",
      "A_prev input shape in Convolution forward prop: (256, 32, 32, 3)\n",
      "W weights input shape in Convolution forward prop: (3, 3, 3, 3)\n",
      "b biases input shape in Convolution forward prop: (1, 1, 1, 3)\n",
      "Z output shape in Convolution forward prop: (256, 32, 32, 3)\n",
      "A_prev input shape in Pooling forward: (256, 32, 32, 3)\n",
      "A output shape in Pooling forkward: (256, 16, 16, 3)\n",
      "Z input shape in Flatten forward prop: (256, 16, 16, 3)\n",
      "data output shape in Flatten forward prop: (768, 256)\n",
      "X input shape in Dense forward prop: (768, 256)\n",
      "W weights input shape in Dense forward prop: (10, 768)\n",
      "b biases input shape in Dense forward prop: (10, 1)\n",
      "expZ shape after np.exp(Z - np.max(Z)): (10, 256)\n",
      "Z input shape in Softmax forward prop: (10, 256)\n",
      "out output shape in Softmax forward prop: (10, 256)\n",
      "A_prev input shape in Convolution forward prop: (256, 32, 32, 3)\n",
      "W weights input shape in Convolution forward prop: (3, 3, 3, 3)\n",
      "b biases input shape in Convolution forward prop: (1, 1, 1, 3)\n",
      "Z output shape in Convolution forward prop: (256, 32, 32, 3)\n",
      "A_prev input shape in Pooling forward: (256, 32, 32, 3)\n",
      "A output shape in Pooling forkward: (256, 16, 16, 3)\n",
      "Z input shape in Flatten forward prop: (256, 16, 16, 3)\n",
      "data output shape in Flatten forward prop: (768, 256)\n",
      "X input shape in Dense forward prop: (768, 256)\n",
      "W weights input shape in Dense forward prop: (10, 768)\n",
      "b biases input shape in Dense forward prop: (10, 1)\n",
      "expZ shape after np.exp(Z - np.max(Z)): (10, 256)\n",
      "Z input shape in Softmax forward prop: (10, 256)\n",
      "out output shape in Softmax forward prop: (10, 256)\n",
      "A_prev input shape in Convolution forward prop: (256, 32, 32, 3)\n",
      "W weights input shape in Convolution forward prop: (3, 3, 3, 3)\n",
      "b biases input shape in Convolution forward prop: (1, 1, 1, 3)\n",
      "Z output shape in Convolution forward prop: (256, 32, 32, 3)\n",
      "A_prev input shape in Pooling forward: (256, 32, 32, 3)\n",
      "A output shape in Pooling forkward: (256, 16, 16, 3)\n",
      "Z input shape in Flatten forward prop: (256, 16, 16, 3)\n",
      "data output shape in Flatten forward prop: (768, 256)\n",
      "X input shape in Dense forward prop: (768, 256)\n",
      "W weights input shape in Dense forward prop: (10, 768)\n",
      "b biases input shape in Dense forward prop: (10, 1)\n",
      "expZ shape after np.exp(Z - np.max(Z)): (10, 256)\n",
      "Z input shape in Softmax forward prop: (10, 256)\n",
      "out output shape in Softmax forward prop: (10, 256)\n",
      "A_prev input shape in Convolution forward prop: (256, 32, 32, 3)\n",
      "W weights input shape in Convolution forward prop: (3, 3, 3, 3)\n",
      "b biases input shape in Convolution forward prop: (1, 1, 1, 3)\n",
      "Z output shape in Convolution forward prop: (256, 32, 32, 3)\n",
      "A_prev input shape in Pooling forward: (256, 32, 32, 3)\n",
      "A output shape in Pooling forkward: (256, 16, 16, 3)\n",
      "Z input shape in Flatten forward prop: (256, 16, 16, 3)\n",
      "data output shape in Flatten forward prop: (768, 256)\n",
      "X input shape in Dense forward prop: (768, 256)\n",
      "W weights input shape in Dense forward prop: (10, 768)\n",
      "b biases input shape in Dense forward prop: (10, 1)\n",
      "expZ shape after np.exp(Z - np.max(Z)): (10, 256)\n",
      "Z input shape in Softmax forward prop: (10, 256)\n",
      "out output shape in Softmax forward prop: (10, 256)\n",
      "Loss epoch 1: 2357.646\n",
      "Accuracy epoch 1: 10.84%\n"
     ]
    }
   ],
   "source": [
    "# Train the model for 1 epoch.\n",
    "model.train(X_train, y_train, 0.003, batch_size=256, epochs=1)"
   ]
  },
  {
   "cell_type": "code",
   "execution_count": 7,
   "metadata": {},
   "outputs": [
    {
     "data": {
      "text/plain": [
       "(10000, 32, 32, 3)"
      ]
     },
     "execution_count": 7,
     "metadata": {},
     "output_type": "execute_result"
    }
   ],
   "source": [
    "X_test.shape"
   ]
  },
  {
   "cell_type": "markdown",
   "metadata": {},
   "source": [
    "## Make predictions"
   ]
  },
  {
   "cell_type": "code",
   "execution_count": 8,
   "metadata": {},
   "outputs": [
    {
     "name": "stdout",
     "output_type": "stream",
     "text": [
      "A_prev input shape in Convolution forward prop: (100, 32, 32, 3)\n",
      "W weights input shape in Convolution forward prop: (3, 3, 3, 3)\n",
      "b biases input shape in Convolution forward prop: (1, 1, 1, 3)\n",
      "Z output shape in Convolution forward prop: (100, 32, 32, 3)\n",
      "A_prev input shape in Pooling forward: (100, 32, 32, 3)\n",
      "A output shape in Pooling forkward: (100, 16, 16, 3)\n",
      "Z input shape in Flatten forward prop: (100, 16, 16, 3)\n",
      "data output shape in Flatten forward prop: (768, 100)\n",
      "X input shape in Dense forward prop: (768, 100)\n",
      "W weights input shape in Dense forward prop: (10, 768)\n",
      "b biases input shape in Dense forward prop: (10, 1)\n",
      "expZ shape after np.exp(Z - np.max(Z)): (10, 100)\n",
      "Z input shape in Softmax forward prop: (10, 100)\n",
      "out output shape in Softmax forward prop: (10, 100)\n"
     ]
    }
   ],
   "source": [
    "# Make predictions on a small subset of the data.\n",
    "X_test = X_test[:100, :, :, :]\n",
    "y_test = y_test[:100, :]\n",
    "\n",
    "predictions = model.predict(X_test)"
   ]
  },
  {
   "cell_type": "code",
   "execution_count": 9,
   "metadata": {},
   "outputs": [],
   "source": [
    "# Transpose the predictions  from (10, m) to (m, 10)\n",
    "predictions = predictions.T"
   ]
  },
  {
   "cell_type": "code",
   "execution_count": 10,
   "metadata": {},
   "outputs": [
    {
     "data": {
      "text/plain": [
       "array([[0.14796694, 0.14579223, 0.122062  , 0.07543066, 0.06303306,\n",
       "        0.15953061, 0.12228122, 0.08863666, 0.0390134 , 0.03625321],\n",
       "       [0.10355559, 0.22041993, 0.07044078, 0.07152846, 0.05871551,\n",
       "        0.12562334, 0.11568396, 0.10895129, 0.03863961, 0.08644152],\n",
       "       [0.10610427, 0.10989   , 0.13266985, 0.07537021, 0.06933333,\n",
       "        0.13185215, 0.0778185 , 0.06370531, 0.03409346, 0.1991629 ],\n",
       "       [0.139301  , 0.1527059 , 0.1098706 , 0.08595487, 0.06859196,\n",
       "        0.15975276, 0.10738642, 0.09775632, 0.04274565, 0.0359345 ],\n",
       "       [0.10230492, 0.25456027, 0.06035768, 0.06061522, 0.05822284,\n",
       "        0.11693632, 0.1063927 , 0.11827507, 0.03746166, 0.0848733 ]])"
      ]
     },
     "execution_count": 10,
     "metadata": {},
     "output_type": "execute_result"
    }
   ],
   "source": [
    "# Display the first five probability vectors for the first five images.\n",
    "predictions[:5]"
   ]
  },
  {
   "cell_type": "markdown",
   "metadata": {},
   "source": [
    "## Evaluate predictions"
   ]
  },
  {
   "cell_type": "code",
   "execution_count": null,
   "metadata": {},
   "outputs": [],
   "source": [
    "# Evaluate a small subset of the data.\n",
    "model.evaluate(X_test, y_test)"
   ]
  }
 ],
 "metadata": {
  "kernelspec": {
   "display_name": "Python 3",
   "language": "python",
   "name": "python3"
  },
  "language_info": {
   "codemirror_mode": {
    "name": "ipython",
    "version": 3
   },
   "file_extension": ".py",
   "mimetype": "text/x-python",
   "name": "python",
   "nbconvert_exporter": "python",
   "pygments_lexer": "ipython3",
   "version": "3.7.9"
  }
 },
 "nbformat": 4,
 "nbformat_minor": 4
}
