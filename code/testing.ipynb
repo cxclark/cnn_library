{
 "cells": [
  {
   "cell_type": "code",
   "execution_count": 1,
   "metadata": {},
   "outputs": [],
   "source": [
    "from tensorflow.keras.datasets import cifar10\n",
    "(X_train, y_train), (X_test, y_test) = cifar10.load_data()"
   ]
  },
  {
   "cell_type": "code",
   "execution_count": 2,
   "metadata": {},
   "outputs": [
    {
     "name": "stdout",
     "output_type": "stream",
     "text": [
      "Shape of X_train: (50000, 32, 32, 3)\n",
      "Shape of X_test: (10000, 32, 32, 3)\n",
      "Shape of y_train: (50000, 1)\n",
      "Shape of y_test: (10000, 1)\n"
     ]
    }
   ],
   "source": [
    "# Display the shapes of the data.\n",
    "print(f'Shape of X_train: {X_train.shape}')\n",
    "print(f'Shape of X_test: {X_test.shape}')\n",
    "print(f'Shape of y_train: {y_train.shape}')\n",
    "print(f'Shape of y_test: {y_test.shape}')"
   ]
  },
  {
   "cell_type": "code",
   "execution_count": 3,
   "metadata": {},
   "outputs": [],
   "source": [
    "from layers_activation import ReluLayer\n",
    "from layers_convolution import ConvolutionLayer\n",
    "from layers_pooling import PoolLayer\n",
    "from layers_flatten import Flatten\n",
    "from layers_dense import DenseLayer\n",
    "from loss import SoftmaxLayer\n",
    "from network import Model"
   ]
  },
  {
   "cell_type": "code",
   "execution_count": 4,
   "metadata": {},
   "outputs": [],
   "source": [
    "model = Model(\n",
    "    ConvolutionLayer(filters=3, filter_size=3, padding=1, stride=1),\n",
    "    ReluLayer(),\n",
    "    PoolLayer(filter_size=2, stride=2, mode='max'),\n",
    "    Flatten(),\n",
    "    DenseLayer(units=10),\n",
    "    SoftmaxLayer()\n",
    ")"
   ]
  },
  {
   "cell_type": "code",
   "execution_count": 5,
   "metadata": {},
   "outputs": [
    {
     "data": {
      "text/plain": [
       "(50000, 32, 32, 3)"
      ]
     },
     "execution_count": 5,
     "metadata": {},
     "output_type": "execute_result"
    }
   ],
   "source": [
    "X_train.shape"
   ]
  },
  {
   "cell_type": "code",
   "execution_count": 6,
   "metadata": {},
   "outputs": [
    {
     "data": {
      "text/plain": [
       "(50000, 1)"
      ]
     },
     "execution_count": 6,
     "metadata": {},
     "output_type": "execute_result"
    }
   ],
   "source": [
    "y_train.shape"
   ]
  },
  {
   "cell_type": "code",
   "execution_count": 7,
   "metadata": {},
   "outputs": [],
   "source": [
    "# Downsize the training data in the interest of time\n",
    "X_train = X_train[ :500, :, :, :]\n",
    "y_train = y_train[ :500, :]"
   ]
  },
  {
   "cell_type": "code",
   "execution_count": 8,
   "metadata": {},
   "outputs": [
    {
     "name": "stdout",
     "output_type": "stream",
     "text": [
      "Running epoch: 1\n",
      "A_prev input shape in Convolution forward prop: (256, 32, 32, 3)\n",
      "W weights input shape in Convolution forward prop: (3, 3, 3, 3)\n",
      "b biases input shape in Convolution forward prop: (1, 1, 1, 3)\n",
      "Z output shape in Convolution forward prop: (256, 32, 32, 3)\n",
      "A_prev input shape in Pooling forward: (256, 32, 32, 3)\n",
      "A output shape in Pooling forkward: (256, 16, 16, 3)\n",
      "Z input shape in Flatten forward prop: (256, 16, 16, 3)\n",
      "data output shape in Flatten forward prop: (768, 256)\n",
      "X input shape in Dense forward prop: (768, 256)\n",
      "W weights input shape in Dense forward prop: (10, 768)\n",
      "b biases input shape in Dense forward prop: (10, 1)\n",
      "mini_batch[0] shape (256, 32, 32, 3)\n",
      "mini_batch_true_labels shape (256, 10)\n",
      "mini_batch_preds final shape (10, 256)\n",
      "dA.shape: (10, 256)\n",
      "dA input shape in Softmax backward: (10, 256)\n",
      "Z input shape in Softmax backward: (10, 256)\n",
      "dZ input shape in Dense backward: (10, 256)\n",
      "out output shape in Dense backward: (768, 256)\n",
      "Z input shape in Flatten backward: (768, 256)\n",
      "Z transposed in Flatten backward: (256, 768)\n",
      "out output shape in Flatten backward: (256, 16, 16, 3)\n",
      "A_prev cache input shape in Pooling backward: (256, 32, 32, 3)\n",
      "dA input shape in Pooling backward: (256, 16, 16, 3)\n",
      "dA_prev output shape in Pooling backward: (256, 32, 32, 3)\n",
      "dZ input shape in Convolution backward: (256, 32, 32, 3)\n",
      "dW grads shape in Convolution backward: (3, 3, 3, 3)\n",
      "db grads shape in Convolution backward: (1, 1, 1, 3)\n",
      "dA_prev output shape in Convolution backward: (256, 32, 32, 3)\n",
      "A_prev input shape in Convolution forward prop: (244, 32, 32, 3)\n",
      "W weights input shape in Convolution forward prop: (3, 3, 3, 3)\n",
      "b biases input shape in Convolution forward prop: (1, 1, 1, 3)\n",
      "Z output shape in Convolution forward prop: (244, 32, 32, 3)\n",
      "A_prev input shape in Pooling forward: (244, 32, 32, 3)\n",
      "A output shape in Pooling forkward: (244, 16, 16, 3)\n",
      "Z input shape in Flatten forward prop: (244, 16, 16, 3)\n",
      "data output shape in Flatten forward prop: (768, 244)\n",
      "X input shape in Dense forward prop: (768, 244)\n",
      "W weights input shape in Dense forward prop: (10, 768)\n",
      "b biases input shape in Dense forward prop: (10, 1)\n",
      "mini_batch[0] shape (244, 32, 32, 3)\n",
      "mini_batch_true_labels shape (244, 10)\n",
      "mini_batch_preds final shape (10, 244)\n",
      "dA.shape: (10, 244)\n",
      "dA input shape in Softmax backward: (10, 244)\n",
      "Z input shape in Softmax backward: (10, 244)\n",
      "dZ input shape in Dense backward: (10, 244)\n",
      "out output shape in Dense backward: (768, 244)\n",
      "Z input shape in Flatten backward: (768, 244)\n",
      "Z transposed in Flatten backward: (244, 768)\n",
      "out output shape in Flatten backward: (244, 16, 16, 3)\n",
      "A_prev cache input shape in Pooling backward: (244, 32, 32, 3)\n",
      "dA input shape in Pooling backward: (244, 16, 16, 3)\n",
      "dA_prev output shape in Pooling backward: (244, 32, 32, 3)\n",
      "dZ input shape in Convolution backward: (244, 32, 32, 3)\n",
      "dW grads shape in Convolution backward: (3, 3, 3, 3)\n",
      "db grads shape in Convolution backward: (1, 1, 1, 3)\n",
      "dA_prev output shape in Convolution backward: (244, 32, 32, 3)\n",
      "A_prev input shape in Convolution forward prop: (256, 32, 32, 3)\n",
      "W weights input shape in Convolution forward prop: (3, 3, 3, 3)\n",
      "b biases input shape in Convolution forward prop: (1, 1, 1, 3)\n",
      "Z output shape in Convolution forward prop: (256, 32, 32, 3)\n",
      "A_prev input shape in Pooling forward: (256, 32, 32, 3)\n",
      "A output shape in Pooling forkward: (256, 16, 16, 3)\n",
      "Z input shape in Flatten forward prop: (256, 16, 16, 3)\n",
      "data output shape in Flatten forward prop: (768, 256)\n",
      "X input shape in Dense forward prop: (768, 256)\n",
      "W weights input shape in Dense forward prop: (10, 768)\n",
      "b biases input shape in Dense forward prop: (10, 1)\n",
      "A_prev input shape in Convolution forward prop: (244, 32, 32, 3)\n",
      "W weights input shape in Convolution forward prop: (3, 3, 3, 3)\n",
      "b biases input shape in Convolution forward prop: (1, 1, 1, 3)\n",
      "Z output shape in Convolution forward prop: (244, 32, 32, 3)\n",
      "A_prev input shape in Pooling forward: (244, 32, 32, 3)\n",
      "A output shape in Pooling forkward: (244, 16, 16, 3)\n",
      "Z input shape in Flatten forward prop: (244, 16, 16, 3)\n",
      "data output shape in Flatten forward prop: (768, 244)\n",
      "X input shape in Dense forward prop: (768, 244)\n",
      "W weights input shape in Dense forward prop: (10, 768)\n",
      "b biases input shape in Dense forward prop: (10, 1)\n",
      "Loss: 1161.8345429981036\n",
      "Accuracy: 11.0%\n",
      "probabilities: [[0.12261811 0.11453599 0.09871894 ... 0.08146676 0.12290647 0.09483172]\n",
      " [0.13667976 0.12154294 0.12308899 ... 0.07424336 0.11094826 0.08737594]\n",
      " [0.06906652 0.07393175 0.12016207 ... 0.09221763 0.08352865 0.15703505]\n",
      " ...\n",
      " [0.13637512 0.12130624 0.12358061 ... 0.07412063 0.11130738 0.08743631]\n",
      " [0.06900435 0.07339775 0.12001779 ... 0.0919657  0.08369713 0.15745061]\n",
      " [0.12263359 0.11429231 0.09856637 ... 0.08163693 0.12302248 0.0952955 ]]\n",
      "probabilities shape: (500, 10)\n",
      "Y_hat_temp: [8 0 9 8 0 9 8 0 9 8 0 9 8 0 9 8 0 9 8 0 9 8 0 9 8 0 9 0 0 9 0 0 9 0 0 9 0\n",
      " 0 9 8 0 9 8 0 9 8 0 9 8 0 9 8 0 9 8 0 9 8 0 9 8 0 9 8 0 9 8 0 9 8 0 9 0 0\n",
      " 9 0 0 9 0 0 9 0 0 9 0 0 9 0 0 9 0 0 9 0 0 9 8 0 9 8 0 9 8 0 9 8 0 9 8 0 9\n",
      " 8 0 9 8 0 9 8 0 9 0 0 9 0 0 9 0 0 9 0 0 9 8 0 9 8 0 9 0 0 9 8 0 9 8 0 9 8\n",
      " 0 9 8 0 9 8 0 9 8 0 9 8 0 9 8 0 9 8 0 9 8 0 9 0 0 9 0 0 9 0 0 9 0 0 9 8 0\n",
      " 9 8 0 9 8 0 9 8 0 9 8 0 9 8 0 9 8 0 9 8 0 9 8 0 9 8 0 9 8 0 9 8 0 9 8 0 9\n",
      " 0 0 9 0 0 9 0 0 9 0 0 9 8 0 9 8 0 9 8 0 9 8 0 9 8 0 9 8 0 9 8 0 9 8 8 0 9\n",
      " 8 0 9 8 0 9 8 0 9 8 0 9 8 0 9 8 0 9 8 0 9 8 0 9 8 0 9 8 0 9 8 0 9 8 0 9 8\n",
      " 0 9 8 0 9 8 0 9 8 0 9 8 0 9 8 0 9 8 0 9 8 0 9 8 0 9 8 0 9 8 0 9 8 0 9 8 0\n",
      " 9 8 0 9 8 0 9 8 0 9 8 0 9 8 0 9 8 0 9 8 0 9 8 0 9 8 0 9 8 0 9 8 0 9 8 0 9\n",
      " 8 0 9 8 0 9 8 0 9 8 0 9 8 0 9 8 0 9 8 0 9 8 0 9 8 0 9 8 0 9 8 0 9 8 0 9 8\n",
      " 0 9 8 0 9 8 0 9 8 0 9 8 0 9 8 0 9 8 0 9 8 0 9 8 0 9 8 0 9 8 0 9 8 0 9 8 0\n",
      " 9 8 0 9 8 0 9 8 0 9 8 0 9 8 0 9 8 0 9 8 0 9 8 0 9 8 0 9 8 0 9 8 0 9 8 0 9\n",
      " 8 0 9 8 0 9 0 0 9 0 0 9 8 0 9 8 0 9 8]\n",
      "Y_temp: [5 8 8 3 0 0 1 6 7 2 3 6 6 1 8 8 8 2 1 5 3 2 5 5 1 5 2 4 3 9 9 8 0 2 3 9 2\n",
      " 6 2 2 4 1 1 6 0 0 0 1 1 9 8 4 6 8 1 1 4 1 3 2 0 0 7 1 0 0 3 8 6 7 4 8 5 6\n",
      " 2 0 8 9 2 0 2 4 3 4 6 6 3 6 8 3 1 2 7 9 0 5 0 0 3 0 7 2 8 5 5 0 7 4 1 8 8\n",
      " 7 0 6 6 9 9 5 8 0 1 1 8 1 5 5 0 8 4 9 3 6 5 6 0 7 0 0 1 7 0 2 2 5 1 3 8 8\n",
      " 4 3 2 5 6 3 5 7 4 4 3 2 0 7 3 6 5 9 8 4 0 2 7 1 6 4 2 3 0 4 6 9 3 6 4 4 0\n",
      " 9 8 5 8 9 7 6 7 7 1 4 1 2 4 9 5 0 8 2 5 8 0 2 8 5 5 6 0 9 8 4 7 4 1 8 9 7\n",
      " 7 9 5 8 0 0 5 2 6 5 5 9 5 5 0 6 0 4 7 2 5 5 7 5 7 3 5 5 0 2 7 2 3 0 6 0 2\n",
      " 7 4 0 0 3 9 8 2 6 3 8 8 1 3 8 8 0 9 4 8 9 7 1 0 1 9 4 5 2 1 6 7 7 5 9 6 8\n",
      " 3 4 5 3 1 0 0 1 0 4 8 8 9 7 3 0 0 5 2 2 8 9 6 8 6 6 8 0 4 0 5 5 7 6 0 2 9\n",
      " 2 2 1 3 4 6 4 8 9 2 3 9 3 3 5 9 9 5 5 9 7 0 5 1 8 1 4 8 5 6 3 0 7 6 2 5 8\n",
      " 2 9 3 9 4 0 9 2 3 7 4 3 6 1 2 8 6 5 6 0 3 6 9 0 6 2 0 7 3 3 1 9 1 1 9 9 8\n",
      " 9 8 5 7 1 6 6 3 9 2 9 7 8 3 1 6 1 4 1 4 0 8 3 7 4 0 6 3 3 9 5 8 9 6 7 7 8\n",
      " 8 2 2 3 9 3 4 5 5 9 0 9 7 9 3 7 7 0 4 1 5 7 0 9 9 6 6 4 8 5 1 7 2 3 6 2 8\n",
      " 9 0 1 3 7 0 7 5 3 3 4 6 0 2 8 7 9 0 6]\n",
      "Y_hat_temp shape: (500,)\n"
     ]
    }
   ],
   "source": [
    "model.train(X_train, y_train, 0.003, batch_size=256, epochs=1)"
   ]
  },
  {
   "cell_type": "code",
   "execution_count": 9,
   "metadata": {},
   "outputs": [
    {
     "data": {
      "text/plain": [
       "(10000, 32, 32, 3)"
      ]
     },
     "execution_count": 9,
     "metadata": {},
     "output_type": "execute_result"
    }
   ],
   "source": [
    "X_test.shape"
   ]
  },
  {
   "cell_type": "code",
   "execution_count": 10,
   "metadata": {},
   "outputs": [],
   "source": [
    "X_test = X_test[:100, :, :, :]"
   ]
  },
  {
   "cell_type": "code",
   "execution_count": 11,
   "metadata": {},
   "outputs": [
    {
     "name": "stdout",
     "output_type": "stream",
     "text": [
      "A_prev input shape in Convolution forward prop: (100, 32, 32, 3)\n",
      "W weights input shape in Convolution forward prop: (3, 3, 3, 3)\n",
      "b biases input shape in Convolution forward prop: (1, 1, 1, 3)\n",
      "Z output shape in Convolution forward prop: (100, 32, 32, 3)\n",
      "A_prev input shape in Pooling forward: (100, 32, 32, 3)\n",
      "A output shape in Pooling forkward: (100, 16, 16, 3)\n",
      "Z input shape in Flatten forward prop: (100, 16, 16, 3)\n",
      "data output shape in Flatten forward prop: (768, 100)\n",
      "X input shape in Dense forward prop: (768, 100)\n",
      "W weights input shape in Dense forward prop: (10, 768)\n",
      "b biases input shape in Dense forward prop: (10, 1)\n"
     ]
    }
   ],
   "source": [
    "predictions = model.predict(X_test)"
   ]
  },
  {
   "cell_type": "code",
   "execution_count": 12,
   "metadata": {},
   "outputs": [],
   "source": [
    "predictions = predictions.T"
   ]
  },
  {
   "cell_type": "code",
   "execution_count": 13,
   "metadata": {},
   "outputs": [
    {
     "data": {
      "text/plain": [
       "array([[0.09866571, 0.09458959, 0.09458459, 0.09484569, 0.08941313,\n",
       "        0.10330677, 0.08814378, 0.10387207, 0.10303562, 0.12954305],\n",
       "       [0.09984734, 0.09427723, 0.09598766, 0.09477925, 0.09102968,\n",
       "        0.10315467, 0.09002886, 0.09987761, 0.10589395, 0.12512375],\n",
       "       [0.09982463, 0.09748786, 0.09135531, 0.09810533, 0.08835648,\n",
       "        0.10776814, 0.08881119, 0.09981378, 0.09946381, 0.1290135 ],\n",
       "       [0.09818279, 0.09539156, 0.0950155 , 0.09515497, 0.08980819,\n",
       "        0.10243714, 0.08860699, 0.1031823 , 0.10176492, 0.13045564],\n",
       "       [0.09926763, 0.09616122, 0.09413724, 0.09861349, 0.08985723,\n",
       "        0.10155853, 0.08860726, 0.09725155, 0.10535321, 0.12919264]])"
      ]
     },
     "execution_count": 13,
     "metadata": {},
     "output_type": "execute_result"
    }
   ],
   "source": [
    "predictions[:5]"
   ]
  },
  {
   "cell_type": "code",
   "execution_count": 14,
   "metadata": {},
   "outputs": [
    {
     "data": {
      "text/plain": [
       "array([9, 9, 9, 9, 9])"
      ]
     },
     "execution_count": 14,
     "metadata": {},
     "output_type": "execute_result"
    }
   ],
   "source": [
    "import numpy as np \n",
    "np.argmax(predictions, axis=1)[:5]"
   ]
  },
  {
   "cell_type": "code",
   "execution_count": 15,
   "metadata": {},
   "outputs": [],
   "source": [
    "def to_categorical(labels, num_classes):\n",
    "    \"\"\"\n",
    "    Converts image labels to one-hot encoded binary vectors with length of num_classes.\n",
    "    Arguments:\n",
    "        labels -- image classification labels e.g. 1 = 'airplane', nested numpy arrays of integers.\n",
    "        num_classes -- number of classes in image classification task, integer.\n",
    "    Returns:\n",
    "        label_vec -- binary vector representation of the class, 1 for correct label, 0's otherwise. \n",
    "    \"\"\"\n",
    "    # Initialize a zero matrix with the correct dimensions.\n",
    "    label_vec = np.zeros((len(labels), num_classes))\n",
    "    # Loop through the labels in the input.\n",
    "    for i in range(len(labels)):\n",
    "        # Create an new index for binary encoding, subtracting 1. \n",
    "        # An image with label [6] on a scale of 1-10, will have a 1 at index 5 in the vector.\n",
    "        new_index = labels[i][0] - 1\n",
    "        # Replace the 0 at the given location with a 1 for the correct class.\n",
    "        label_vec[i][new_index] = 1\n",
    "    return label_vec"
   ]
  },
  {
   "cell_type": "code",
   "execution_count": 16,
   "metadata": {},
   "outputs": [],
   "source": [
    "y_test = to_categorical(y_test, 10)"
   ]
  },
  {
   "cell_type": "code",
   "execution_count": 17,
   "metadata": {},
   "outputs": [
    {
     "data": {
      "text/plain": [
       "array([[0., 0., 1., 0., 0., 0., 0., 0., 0., 0.],\n",
       "       [0., 0., 0., 0., 0., 0., 0., 1., 0., 0.],\n",
       "       [0., 0., 0., 0., 0., 0., 0., 1., 0., 0.],\n",
       "       [0., 0., 0., 0., 0., 0., 0., 0., 0., 1.],\n",
       "       [0., 0., 0., 0., 0., 1., 0., 0., 0., 0.]])"
      ]
     },
     "execution_count": 17,
     "metadata": {},
     "output_type": "execute_result"
    }
   ],
   "source": [
    "y_test[:5]"
   ]
  },
  {
   "cell_type": "code",
   "execution_count": 18,
   "metadata": {},
   "outputs": [
    {
     "data": {
      "text/plain": [
       "array([2, 7, 7, 9, 5])"
      ]
     },
     "execution_count": 18,
     "metadata": {},
     "output_type": "execute_result"
    }
   ],
   "source": [
    "np.argmax(y_test, axis=1)[:5]"
   ]
  },
  {
   "cell_type": "code",
   "execution_count": null,
   "metadata": {},
   "outputs": [],
   "source": []
  },
  {
   "cell_type": "code",
   "execution_count": null,
   "metadata": {},
   "outputs": [],
   "source": []
  },
  {
   "cell_type": "code",
   "execution_count": null,
   "metadata": {},
   "outputs": [],
   "source": []
  },
  {
   "cell_type": "code",
   "execution_count": 19,
   "metadata": {},
   "outputs": [
    {
     "ename": "AttributeError",
     "evalue": "module 'numpy' has no attribute 'argamax'",
     "output_type": "error",
     "traceback": [
      "\u001b[0;31m---------------------------------------------------------------------------\u001b[0m",
      "\u001b[0;31mAttributeError\u001b[0m                            Traceback (most recent call last)",
      "\u001b[0;32m<ipython-input-19-9ab2ebf27c90>\u001b[0m in \u001b[0;36m<module>\u001b[0;34m\u001b[0m\n\u001b[1;32m      1\u001b[0m \u001b[0marr\u001b[0m \u001b[0;34m=\u001b[0m \u001b[0;34m[\u001b[0m\u001b[0;34m[\u001b[0m\u001b[0;36m1\u001b[0m\u001b[0;34m,\u001b[0m \u001b[0;36m2\u001b[0m\u001b[0;34m,\u001b[0m \u001b[0;36m3\u001b[0m\u001b[0;34m,\u001b[0m \u001b[0;36m4\u001b[0m\u001b[0;34m]\u001b[0m\u001b[0;34m]\u001b[0m\u001b[0;34m\u001b[0m\u001b[0;34m\u001b[0m\u001b[0m\n\u001b[0;32m----> 2\u001b[0;31m \u001b[0mnp\u001b[0m\u001b[0;34m.\u001b[0m\u001b[0margamax\u001b[0m\u001b[0;34m(\u001b[0m\u001b[0marr\u001b[0m\u001b[0;34m,\u001b[0m \u001b[0;34m)\u001b[0m\u001b[0;34m\u001b[0m\u001b[0;34m\u001b[0m\u001b[0m\n\u001b[0m",
      "\u001b[0;32m~/anaconda3/lib/python3.7/site-packages/numpy/__init__.py\u001b[0m in \u001b[0;36m__getattr__\u001b[0;34m(attr)\u001b[0m\n\u001b[1;32m    218\u001b[0m             \u001b[0;32melse\u001b[0m\u001b[0;34m:\u001b[0m\u001b[0;34m\u001b[0m\u001b[0;34m\u001b[0m\u001b[0m\n\u001b[1;32m    219\u001b[0m                 raise AttributeError(\"module {!r} has no attribute \"\n\u001b[0;32m--> 220\u001b[0;31m                                      \"{!r}\".format(__name__, attr))\n\u001b[0m\u001b[1;32m    221\u001b[0m \u001b[0;34m\u001b[0m\u001b[0m\n\u001b[1;32m    222\u001b[0m         \u001b[0;32mdef\u001b[0m \u001b[0m__dir__\u001b[0m\u001b[0;34m(\u001b[0m\u001b[0;34m)\u001b[0m\u001b[0;34m:\u001b[0m\u001b[0;34m\u001b[0m\u001b[0;34m\u001b[0m\u001b[0m\n",
      "\u001b[0;31mAttributeError\u001b[0m: module 'numpy' has no attribute 'argamax'"
     ]
    }
   ],
   "source": [
    "arr = [[1, 2, 3, 4]]\n",
    "np.argamax(arr, )"
   ]
  },
  {
   "cell_type": "code",
   "execution_count": null,
   "metadata": {},
   "outputs": [],
   "source": [
    "import numpy as np \n",
    "Y_hat_temp = np.array([8, 6, 0, 8, 6])\n",
    "Y_temp = np.array([5, 8, 8, 3, 0])"
   ]
  },
  {
   "cell_type": "code",
   "execution_count": null,
   "metadata": {},
   "outputs": [],
   "source": [
    "(Y_hat_temp == Y_temp).mean()"
   ]
  },
  {
   "cell_type": "code",
   "execution_count": null,
   "metadata": {},
   "outputs": [],
   "source": []
  },
  {
   "cell_type": "code",
   "execution_count": null,
   "metadata": {},
   "outputs": [],
   "source": []
  }
 ],
 "metadata": {
  "kernelspec": {
   "display_name": "Python 3",
   "language": "python",
   "name": "python3"
  },
  "language_info": {
   "codemirror_mode": {
    "name": "ipython",
    "version": 3
   },
   "file_extension": ".py",
   "mimetype": "text/x-python",
   "name": "python",
   "nbconvert_exporter": "python",
   "pygments_lexer": "ipython3",
   "version": "3.7.9"
  }
 },
 "nbformat": 4,
 "nbformat_minor": 4
}
