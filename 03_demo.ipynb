{
 "cells": [
  {
   "cell_type": "markdown",
   "metadata": {},
   "source": [
    "# Demo"
   ]
  },
  {
   "cell_type": "markdown",
   "metadata": {},
   "source": [
    "### Notebooks\n",
    "[01_data_visualization](01_data_visualization.ipynb)  \n",
    "[02_formulas](#2_formulas.ipynb)  \n",
    "[03_demo](03_demo.ipynb)  "
   ]
  },
  {
   "cell_type": "markdown",
   "metadata": {},
   "source": [
    "### This Notebook's Contents\n",
    "[Model 1 Demo](#Model-1-Demo)  \n",
    "[Model 2 Demo](#Model-2-Demo)  "
   ]
  },
  {
   "cell_type": "markdown",
   "metadata": {},
   "source": [
    "## Imports"
   ]
  },
  {
   "cell_type": "code",
   "execution_count": 1,
   "metadata": {},
   "outputs": [],
   "source": [
    "# Import CIFAR-10 training data.\n",
    "from tensorflow.keras.datasets import cifar10\n",
    "(X_train, y_train), (X_test, y_test) = cifar10.load_data()"
   ]
  },
  {
   "cell_type": "code",
   "execution_count": 2,
   "metadata": {},
   "outputs": [
    {
     "name": "stdout",
     "output_type": "stream",
     "text": [
      "Shape of X_train: (50000, 32, 32, 3)\n",
      "Shape of X_test: (10000, 32, 32, 3)\n",
      "Shape of y_train: (50000, 1)\n",
      "Shape of y_test: (10000, 1)\n"
     ]
    }
   ],
   "source": [
    "# Display the shapes of the data.\n",
    "print(f'Shape of X_train: {X_train.shape}')\n",
    "print(f'Shape of X_test: {X_test.shape}')\n",
    "print(f'Shape of y_train: {y_train.shape}')\n",
    "print(f'Shape of y_test: {y_test.shape}')"
   ]
  },
  {
   "cell_type": "code",
   "execution_count": 3,
   "metadata": {},
   "outputs": [],
   "source": [
    "# Import the required modules.\n",
    "from hive_ml.layers.activation import ReluLayer\n",
    "from hive_ml.layers.convolution import ConvolutionLayer\n",
    "from hive_ml.layers.pooling import PoolLayer\n",
    "from hive_ml.layers.flatten import Flatten\n",
    "from hive_ml.layers.dense import DenseLayer\n",
    "from hive_ml.layers.loss import SoftmaxLayer\n",
    "from hive_ml.network import Model"
   ]
  },
  {
   "cell_type": "markdown",
   "metadata": {},
   "source": [
    "## Downsize data"
   ]
  },
  {
   "cell_type": "code",
   "execution_count": 4,
   "metadata": {},
   "outputs": [],
   "source": [
    "# Downsize the training data in the interest of time.\n",
    "X_train = X_train[ :256, :, :, :]\n",
    "y_train = y_train[ :256, :]"
   ]
  },
  {
   "cell_type": "code",
   "execution_count": 5,
   "metadata": {},
   "outputs": [],
   "source": [
    "# Downsize test data.\n",
    "X_test = X_test[:50, :, :, :]\n",
    "y_test = y_test[:50, :]"
   ]
  },
  {
   "cell_type": "markdown",
   "metadata": {},
   "source": [
    "# Model 1 Demo\n",
    "#### CONV => RELU => POOL => FLATTEN => DENSE => RELU => DENSE => SOFTMAX"
   ]
  },
  {
   "cell_type": "code",
   "execution_count": 6,
   "metadata": {},
   "outputs": [],
   "source": [
    "# Import the required modules.\n",
    "from hive_ml.layers.activation import ReluLayer\n",
    "from hive_ml.layers.convolution import ConvolutionLayer\n",
    "from hive_ml.layers.pooling import PoolLayer\n",
    "from hive_ml.layers.flatten import Flatten\n",
    "from hive_ml.layers.dense import DenseLayer\n",
    "from hive_ml.layers.loss import SoftmaxLayer\n",
    "from hive_ml.network import Model"
   ]
  },
  {
   "cell_type": "code",
   "execution_count": 7,
   "metadata": {},
   "outputs": [],
   "source": [
    "# Instantiate a model.\n",
    "model1 = Model(\n",
    "    ConvolutionLayer(filters=3, filter_size=3, padding=1, stride=1),\n",
    "    ReluLayer(),\n",
    "    PoolLayer(filter_size=2, stride=2, mode='max'),\n",
    "    Flatten(),\n",
    "    DenseLayer(units=100),\n",
    "    ReluLayer(),\n",
    "    DenseLayer(units=10),\n",
    "    SoftmaxLayer()\n",
    ")"
   ]
  },
  {
   "cell_type": "code",
   "execution_count": 8,
   "metadata": {},
   "outputs": [
    {
     "name": "stdout",
     "output_type": "stream",
     "text": [
      "Running epoch: 1\n",
      "Time to train 256 examples: 0.34 min.\n",
      "Loss epoch 1: 2.301\n",
      "Accuracy epoch 1: 10.547%\n"
     ]
    }
   ],
   "source": [
    "# Train the model.\n",
    "model1.train(X_train, y_train, 0.003, batch_size=256, epochs=1)"
   ]
  },
  {
   "cell_type": "markdown",
   "metadata": {},
   "source": [
    "### Make predictions"
   ]
  },
  {
   "cell_type": "code",
   "execution_count": 9,
   "metadata": {},
   "outputs": [
    {
     "data": {
      "text/plain": [
       "((50, 32, 32, 3), (50, 1))"
      ]
     },
     "execution_count": 9,
     "metadata": {},
     "output_type": "execute_result"
    }
   ],
   "source": [
    "# Print shapes.\n",
    "X_test.shape, y_test.shape"
   ]
  },
  {
   "cell_type": "code",
   "execution_count": 10,
   "metadata": {},
   "outputs": [],
   "source": [
    "# Make predictions.\n",
    "predictions = model1.predict(X_test)"
   ]
  },
  {
   "cell_type": "code",
   "execution_count": 11,
   "metadata": {},
   "outputs": [
    {
     "data": {
      "text/plain": [
       "(10, 50)"
      ]
     },
     "execution_count": 11,
     "metadata": {},
     "output_type": "execute_result"
    }
   ],
   "source": [
    "# Print shapes.\n",
    "predictions.shape"
   ]
  },
  {
   "cell_type": "code",
   "execution_count": 12,
   "metadata": {},
   "outputs": [],
   "source": [
    "# Transpose the predictions  from (num_classes, m) to (m, num_classes)\n",
    "predictions = predictions.T"
   ]
  },
  {
   "cell_type": "code",
   "execution_count": 13,
   "metadata": {},
   "outputs": [
    {
     "data": {
      "text/plain": [
       "array([[0.20715047, 0.10017286, 0.08013737, 0.11407604, 0.05155979,\n",
       "        0.12162276, 0.03270725, 0.08944883, 0.1074664 , 0.09565824],\n",
       "       [0.09702016, 0.12517792, 0.0895114 , 0.15791755, 0.06374969,\n",
       "        0.13098443, 0.06696918, 0.10518647, 0.0557699 , 0.10771329],\n",
       "       [0.06807621, 0.03754985, 0.14411491, 0.23470556, 0.03451186,\n",
       "        0.07436696, 0.06260548, 0.14027922, 0.0818513 , 0.12193864]])"
      ]
     },
     "execution_count": 13,
     "metadata": {},
     "output_type": "execute_result"
    }
   ],
   "source": [
    "# Display the probability vectors for the first few images.\n",
    "# Every probability vector should add up to 1.\n",
    "predictions[:3]"
   ]
  },
  {
   "cell_type": "markdown",
   "metadata": {},
   "source": [
    "### Evaluate predictions"
   ]
  },
  {
   "cell_type": "code",
   "execution_count": 14,
   "metadata": {},
   "outputs": [
    {
     "name": "stdout",
     "output_type": "stream",
     "text": [
      "Accuracy: 8.0%\n"
     ]
    }
   ],
   "source": [
    "# Evaluate the model.\n",
    "model1.evaluate(X_test, y_test)"
   ]
  },
  {
   "cell_type": "markdown",
   "metadata": {},
   "source": [
    "# Model 2 Demo\n",
    "#### CONV => RELU => POOL => CONV => RELU => POOL => FLATTEN => DENSE => RELU => DENSE => SOFTMAX"
   ]
  },
  {
   "cell_type": "code",
   "execution_count": 15,
   "metadata": {},
   "outputs": [],
   "source": [
    "# Instantiate a model.\n",
    "model2 = Model(\n",
    "    ConvolutionLayer(filters=5, filter_size=3, padding=1, stride=1),\n",
    "    ReluLayer(),\n",
    "    PoolLayer(filter_size=2, stride=2, mode='max'),\n",
    "    ConvolutionLayer(filters=7, filter_size=5, padding=2, stride=1),\n",
    "    ReluLayer(),\n",
    "    PoolLayer(filter_size=2, stride=2, mode='max'),\n",
    "    Flatten(),\n",
    "    DenseLayer(units=200),\n",
    "    ReluLayer(),\n",
    "    DenseLayer(units=100),\n",
    "    ReluLayer(),\n",
    "    DenseLayer(units=10),\n",
    "    SoftmaxLayer()\n",
    ")"
   ]
  },
  {
   "cell_type": "code",
   "execution_count": 16,
   "metadata": {},
   "outputs": [
    {
     "name": "stdout",
     "output_type": "stream",
     "text": [
      "Running epoch: 1\n",
      "Time to train 256 examples: 0.71 min.\n",
      "Loss epoch 1: 2.304\n",
      "Accuracy epoch 1: 11.328%\n"
     ]
    }
   ],
   "source": [
    "# Train the model.\n",
    "model2.train(X_train, y_train, 0.003, batch_size=64, epochs=1)"
   ]
  },
  {
   "cell_type": "markdown",
   "metadata": {},
   "source": [
    "### Make predictions"
   ]
  },
  {
   "cell_type": "code",
   "execution_count": 17,
   "metadata": {},
   "outputs": [],
   "source": [
    "# Make predictions.\n",
    "predictions = model2.predict(X_test)"
   ]
  },
  {
   "cell_type": "code",
   "execution_count": 18,
   "metadata": {},
   "outputs": [
    {
     "data": {
      "text/plain": [
       "(10, 50)"
      ]
     },
     "execution_count": 18,
     "metadata": {},
     "output_type": "execute_result"
    }
   ],
   "source": [
    "# Print shape of predictions.\n",
    "predictions.shape"
   ]
  },
  {
   "cell_type": "code",
   "execution_count": 19,
   "metadata": {},
   "outputs": [],
   "source": [
    "# Transpose the predictions  from (num_classes, m) to (m, num_classes).\n",
    "predictions = predictions.T"
   ]
  },
  {
   "cell_type": "code",
   "execution_count": 20,
   "metadata": {},
   "outputs": [
    {
     "data": {
      "text/plain": [
       "array([[0.103094  , 0.09352792, 0.07072678, 0.07132063, 0.06592836,\n",
       "        0.11329128, 0.11184046, 0.11398232, 0.1735164 , 0.08277185],\n",
       "       [0.102147  , 0.09242175, 0.05958101, 0.09229604, 0.08474744,\n",
       "        0.12776588, 0.10893605, 0.13362316, 0.12437189, 0.07410978],\n",
       "       [0.09350198, 0.08274577, 0.06840602, 0.13473789, 0.07196418,\n",
       "        0.14333088, 0.10899627, 0.11103255, 0.11834436, 0.0669401 ]])"
      ]
     },
     "execution_count": 20,
     "metadata": {},
     "output_type": "execute_result"
    }
   ],
   "source": [
    "# Display the probability vectors for the first few images.\n",
    "# Every probability vector should add up to 1.\n",
    "predictions[:3]"
   ]
  },
  {
   "cell_type": "markdown",
   "metadata": {},
   "source": [
    "### Evaluate predictions"
   ]
  },
  {
   "cell_type": "code",
   "execution_count": 21,
   "metadata": {},
   "outputs": [
    {
     "name": "stdout",
     "output_type": "stream",
     "text": [
      "Accuracy: 14.0%\n"
     ]
    }
   ],
   "source": [
    "# Evaluate the model.\n",
    "model2.evaluate(X_test, y_test)"
   ]
  }
 ],
 "metadata": {
  "kernelspec": {
   "display_name": "Python 3",
   "language": "python",
   "name": "python3"
  },
  "language_info": {
   "codemirror_mode": {
    "name": "ipython",
    "version": 3
   },
   "file_extension": ".py",
   "mimetype": "text/x-python",
   "name": "python",
   "nbconvert_exporter": "python",
   "pygments_lexer": "ipython3",
   "version": "3.7.9"
  }
 },
 "nbformat": 4,
 "nbformat_minor": 4
}
