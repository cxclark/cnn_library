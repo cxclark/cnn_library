{
 "cells": [
  {
   "cell_type": "markdown",
   "metadata": {},
   "source": [
    "# Hive ML"
   ]
  },
  {
   "cell_type": "markdown",
   "metadata": {},
   "source": [
    "What are the most critical components of getting an image classifier to work?\n",
    "\n",
    "In order to answer this question, I have developed a convolutional neural network from scratch using only NumPy. The network has been tested on images from CIFAR-10, with classification accuracy as the evaluation metric. Rather than building the fastest or best network, the goal of building this library is to gain intuitions, test concepts, and document steps as thoroughly as possible. Code comments and explanations will be numerous. There will likely be mistakes, which will be improve over time. Feedback is welcome!\n",
    "\n",
    "This work is heavily inspired by Andrej Karpathy's convolutional library ConvnetJS and Andrew Ng's deeplearning.ai courses, whose works and open-source materials have helped countless people break into AI.\n",
    "\n",
    "## References\n",
    "- [Python Packaging User Guide](https://packaging.python.org/)\n",
    "- [Python Documentation for Packages and Modules](https://docs.python.org/3/tutorial/modules.html#packages)\n",
    "- [Python.org Glossary](https://docs.python.org/3/glossary.html)\n",
    "- [Stanford CS231n: Convolutional Neural Networks for Visual Recognition](http://cs231n.stanford.edu/)\n",
    "- [Deeplearning.ai: Andrew Ng's Coursera Deep Learning specialization](https://www.deeplearning.ai/deep-learning-specialization/)\n",
    "- [ConvNetJS: Andrej Karpathy's Javascript CNN library](https://cs.stanford.edu/people/karpathy/convnetjs/)\n",
    "- [Tinygrad: miniature neural network library](https://github.com/geohot/tinygrad)  \n",
    "- [CIFAR-10 dataset](http://www.cs.toronto.edu/~kriz/cifar.html)\n",
    "\n",
    "Xavier Glorot and Yoshua Bengio. “Understanding the difficulty of training deep feedforward neural networks”. In: In Proceedings of the International Conference on Artificial Intelligence and Statistics (AISTATS’10). Society for Artificial Intelligence and Statistics. 2010.  \n",
    "\n",
    "He et al. “Delving Deep into Rectifiers: Surpassing Human-Level Performance on ImageNet Classification”. In: CoRR abs/1502.01852 (2015). URL: http://arxiv.org/abs/1502.01852.  \n",
    "\n",
    "Rosebrock, Dr. Adrian. *Deep Learning for Computer Vision with Python.* 2nd Edition."
   ]
  },
  {
   "cell_type": "markdown",
   "metadata": {},
   "source": [
    "## Proposed Methods and Models\n",
    "\n",
    "- Goal: Develop an image classifier from scratch\n",
    "    - What is image classification?\n",
    "        - The task of assigning a label to an image from a predefined set of categories\n",
    "    - The team from AlexNet was able to achieve 11% error rate on CIFAR-10 with a 4-layer network [2012 AlexNet Paper](http://www.cs.toronto.edu/~hinton/absps/imagenet.pdf)\n",
    "   \n",
    "   \n",
    "- Deliverables:\n",
    "    - pip install\n",
    "    - GitHub repo\n",
    "    - Documentation\n",
    "    - Possible presentation on performance with or without different types of features  \n",
    "\n",
    "\n",
    "- MVP:\n",
    "    - Layers:\n",
    "        - Convolutional layers\n",
    "        - Fully connected layers\n",
    "        - Loss layers\n",
    "        - Pooling layers\n",
    "    - Network structure:\n",
    "        - Something that puts layers together\n",
    "    - 3D volumes \"tensors\" of numbers:\n",
    "        - A class that tracks and transforms 3D number volumes that represent RGB images\n",
    "\n",
    "\n",
    "- Concepts:\n",
    "    - Forward prop\n",
    "    - Backprop\n",
    "    - Cache\n",
    "    - Padding\n",
    "    - Stride\n",
    "    - Batch normalizaiton\n",
    "    - Vectorization"
   ]
  }
 ],
 "metadata": {
  "kernelspec": {
   "display_name": "Python 3",
   "language": "python",
   "name": "python3"
  },
  "language_info": {
   "codemirror_mode": {
    "name": "ipython",
    "version": 3
   },
   "file_extension": ".py",
   "mimetype": "text/x-python",
   "name": "python",
   "nbconvert_exporter": "python",
   "pygments_lexer": "ipython3",
   "version": "3.7.9"
  }
 },
 "nbformat": 4,
 "nbformat_minor": 4
}
